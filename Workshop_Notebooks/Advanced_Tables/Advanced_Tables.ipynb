{
 "cells": [
  {
   "cell_type": "markdown",
   "metadata": {},
   "source": [
    "# Advanced Tables for JWST\n",
    "\n",
    "### Tom Aldcroft"
   ]
  },
  {
   "cell_type": "markdown",
   "metadata": {
    "nbpresent": {
     "id": "04198394-491c-47d2-a46d-9cb4dd90f9a2"
    },
    "slideshow": {
     "slide_type": "slide"
    }
   },
   "source": [
    "# Table design goals and requirements\n",
    "\n",
    "- Easily mutable container of heterogeneous tabular data\n",
    "- Relatively lightweight yet powerful enough for most needs\n",
    "- Responsive to astronomy community needs\n",
    "  - For JWST community - if something is missing, broken, needs improvement then ASK!\n",
    "- Deep integration with Astropy (I/O, units, quantity)\n",
    "- Persistent metadata (column units, table header keywords, formatting)\n",
    "- Support missing data"
   ]
  },
  {
   "cell_type": "markdown",
   "metadata": {
    "nbpresent": {
     "id": "22865d0f-c79e-4a5c-b195-ad238bd5cef7"
    },
    "slideshow": {
     "slide_type": "slide"
    }
   },
   "source": [
    "# Why doesn't Astropy use Pandas DataFrame?\n",
    "\n",
    "- Easily mutable container of heterogeneous tabular data **(only scalar data)**\n",
    "- **Relatively lightweight** yet powerful enough for most needs\n",
    "- Responsive to **astronomy community** needs\n",
    "- **Deep integration with Astropy (I/O, units, quantity)**\n",
    "- **Persistent metadata (column units, table header keywords, formatting)**\n",
    "- Support missing data: **Pandas will cast ``int`` types to ``float64`` to use ``NaN``**\n",
    "  - Large ``int64`` values lose precision\n",
    "  - Short int (e.g. ``uint8``) values take 4 times as much memory as ``MaskedColumn``\n",
    "\n",
    "### Nevertheless...\n",
    "\n",
    "We recognize Pandas is very fast, powerful and widely used.\n",
    "\n",
    "*Astropy Project recommendation is to use `astropy.Table` where possible.  This especially applies to community packages.*\n"
   ]
  },
  {
   "cell_type": "markdown",
   "metadata": {
    "nbpresent": {
     "id": "4a6287e7-dfc4-465d-9ae4-7d656abc6402"
    },
    "slideshow": {
     "slide_type": "slide"
    }
   },
   "source": [
    "# Implementation features\n",
    "\n",
    "- Independent column objects (not a numpy structured array)\n",
    "- Base column class derived from numpy ndarray (flexibility in data elements)\n",
    "- Easily subclassable (doc example of params?)\n",
    "- Transform to other table-like objects (pandas dataframe, numpy structured array, LSST)\n",
    "- Mixin columns (Quantity, Time, Coordinates, QTable vs. Table)\n",
    "- Unified interface for I/O\n",
    "- Database operations: join, grouping, binning, stacking, indexing"
   ]
  },
  {
   "cell_type": "markdown",
   "metadata": {},
   "source": [
    "# Example: multiband photometry of a field\n",
    "\n",
    "### Observations in 5 bands of a single field with 5 \"galaxy-like\" sources\n",
    "\n",
    "- Illustrate key Table concepts that could be similar to JWST post-image processing workflow.\n",
    "- Assumes basic image reduction and source detection is done."
   ]
  },
  {
   "cell_type": "code",
   "execution_count": 1,
   "metadata": {
    "collapsed": true
   },
   "outputs": [],
   "source": [
    "%matplotlib inline\n",
    "import matplotlib.pyplot as plt\n",
    "import numpy as np\n",
    "from astropy.table import Column, vstack, Table, QTable\n",
    "from astropy.time import Time\n",
    "import astropy.units as u\n",
    "import photutils.datasets\n",
    "import warnings\n",
    "warnings.filterwarnings(action='ignore', category=FutureWarning)"
   ]
  },
  {
   "cell_type": "code",
   "execution_count": 2,
   "metadata": {
    "collapsed": false,
    "nbpresent": {
     "id": "e239a41d-288a-4bd8-b52f-c5f39a9ec860"
    },
    "slideshow": {
     "slide_type": "subslide"
    }
   },
   "outputs": [],
   "source": [
    "# Use a photutils utility function to make 5 random gaussians corresponding\n",
    "# to fake elliptical galaxy-like sources.\n",
    "\n",
    "sources = photutils.datasets.make_random_gaussians(\n",
    "    flux_range=(1000, 10000), n_sources=5, \n",
    "    xmean_range=(10, 190), ymean_range=(10, 190),\n",
    "    xstddev_range=(2, 5), ystddev_range=(2,5),\n",
    "    random_state=1)"
   ]
  },
  {
   "cell_type": "code",
   "execution_count": 3,
   "metadata": {
    "collapsed": false
   },
   "outputs": [
    {
     "data": {
      "text/html": [
       "&lt;Table length=5&gt;\n",
       "<table id=\"table4482906992\" class=\"table-striped table-bordered table-condensed\">\n",
       "<thead><tr><th>flux</th><th>x_mean</th><th>y_mean</th><th>x_stddev</th><th>y_stddev</th><th>theta</th></tr></thead>\n",
       "<thead><tr><th>float64</th><th>float64</th><th>float64</th><th>float64</th><th>float64</th><th>float64</th></tr></thead>\n",
       "<tr><td>4753.19804232</td><td>26.6209470584</td><td>85.4550125926</td><td>4.01140253054</td><td>4.40223370603</td><td>5.62097944383</td></tr>\n",
       "<tr><td>7482.92044098</td><td>43.526838048</td><td>133.339510071</td><td>3.2519144071</td><td>4.90478472716</td><td>0.534348539339</td></tr>\n",
       "<tr><td>1001.02937336</td><td>72.2009308677</td><td>46.8014049517</td><td>3.67606948534</td><td>2.94027253448</td><td>0.245388440184</td></tr>\n",
       "<tr><td>3720.99315369</td><td>81.4181453615</td><td>168.06113855</td><td>2.42116081579</td><td>4.07696784701</td><td>1.06707599692</td></tr>\n",
       "<tr><td>2320.80301735</td><td>106.987012121</td><td>14.9297667756</td><td>2.59430446725</td><td>4.62916745689</td><td>5.51753207516</td></tr>\n",
       "</table>"
      ],
      "text/plain": [
       "<Table length=5>\n",
       "     flux         x_mean        y_mean    ...    y_stddev       theta     \n",
       "   float64       float64       float64    ...    float64       float64    \n",
       "------------- ------------- ------------- ... ------------- --------------\n",
       "4753.19804232 26.6209470584 85.4550125926 ... 4.40223370603  5.62097944383\n",
       "7482.92044098  43.526838048 133.339510071 ... 4.90478472716 0.534348539339\n",
       "1001.02937336 72.2009308677 46.8014049517 ... 2.94027253448 0.245388440184\n",
       "3720.99315369 81.4181453615  168.06113855 ... 4.07696784701  1.06707599692\n",
       "2320.80301735 106.987012121 14.9297667756 ... 4.62916745689  5.51753207516"
      ]
     },
     "execution_count": 3,
     "metadata": {},
     "output_type": "execute_result"
    }
   ],
   "source": [
    "sources"
   ]
  },
  {
   "cell_type": "code",
   "execution_count": 4,
   "metadata": {
    "collapsed": false,
    "nbpresent": {
     "id": "8ecb68a2-b932-43c9-a725-dab7103f3223"
    }
   },
   "outputs": [
    {
     "data": {
      "image/png": "[encoded data removed]",
      "text/plain": [
       "<matplotlib.figure.Figure at 0x11207aba8>"
      ]
     },
     "metadata": {},
     "output_type": "display_data"
    }
   ],
   "source": [
    "img = photutils.datasets.make_gaussian_sources(image_shape=(200, 200), source_table=sources)\n",
    "\n",
    "plt.figure()\n",
    "plt.imshow(img);"
   ]
  },
  {
   "cell_type": "code",
   "execution_count": 5,
   "metadata": {
    "collapsed": true,
    "nbpresent": {
     "id": "8a920b74-02b4-4fa7-8018-28b0382ee02c"
    }
   },
   "outputs": [],
   "source": [
    "# Make integer columns with rounded representation of source mean position \n",
    "\n",
    "sources['x0'] = np.round(sources['x_mean']).astype(int)\n",
    "sources['y0'] = np.round(sources['y_mean']).astype(int)"
   ]
  },
  {
   "cell_type": "code",
   "execution_count": 6,
   "metadata": {
    "collapsed": false,
    "nbpresent": {
     "id": "239899b4-00fa-4529-b559-c7614b5a9473"
    }
   },
   "outputs": [],
   "source": [
    "# Generate list of cutout images around each source\n",
    "\n",
    "npix = 10\n",
    "cutouts = [img[y0-npix:y0+npix, x0-npix:x0+npix] for x0, y0 in sources['x0', 'y0']]"
   ]
  },
  {
   "cell_type": "code",
   "execution_count": 7,
   "metadata": {
    "collapsed": false,
    "nbpresent": {
     "id": "c0319310-dc3b-4e3c-8378-fd829e9b3fd1"
    }
   },
   "outputs": [],
   "source": [
    "# Add the cutouts into table: each element is a 2-d image\n",
    "\n",
    "sources['cutout'] = cutouts"
   ]
  },
  {
   "cell_type": "code",
   "execution_count": 8,
   "metadata": {
    "collapsed": false,
    "nbpresent": {
     "id": "68f0caa6-eed1-442f-a9dc-0307d8935308"
    }
   },
   "outputs": [
    {
     "data": {
      "text/plain": [
       "<matplotlib.image.AxesImage at 0x11211c588>"
      ]
     },
     "execution_count": 8,
     "metadata": {},
     "output_type": "execute_result"
    },
    {
     "data": {
      "image/png": "[encoded data removed]",
      "text/plain": [
       "<matplotlib.figure.Figure at 0x10b33bba8>"
      ]
     },
     "metadata": {},
     "output_type": "display_data"
    }
   ],
   "source": [
    "plt.figure(2)\n",
    "plt.imshow(sources['cutout'][3], interpolation='nearest')  \n",
    "\n",
    "# Note order: ['cutout'], [3]\n",
    "# sources[3]['cutout'] gives same thing but makes an intermediate Row object"
   ]
  },
  {
   "cell_type": "code",
   "execution_count": 9,
   "metadata": {
    "collapsed": false
   },
   "outputs": [
    {
     "data": {
      "text/html": [
       "&lt;Table length=5&gt;\n",
       "<table id=\"table4482906992\" class=\"table-striped table-bordered table-condensed\">\n",
       "<thead><tr><th>flux</th><th>x_mean</th><th>y_mean</th><th>x_stddev</th><th>y_stddev</th><th>theta</th><th>x0</th><th>y0</th><th>cutout [20,20]</th><th>id</th></tr></thead>\n",
       "<thead><tr><th>float64</th><th>float64</th><th>float64</th><th>float64</th><th>float64</th><th>float64</th><th>int64</th><th>int64</th><th>float64</th><th>str11</th></tr></thead>\n",
       "<tr><td>4753.19804232</td><td>26.6209470584</td><td>85.4550125926</td><td>4.01140253054</td><td>4.40223370603</td><td>5.62097944383</td><td>27</td><td>85</td><td>0.232716683083 .. 0.656931179953</td><td>jwst-27-85</td></tr>\n",
       "<tr><td>7482.92044098</td><td>43.526838048</td><td>133.339510071</td><td>3.2519144071</td><td>4.90478472716</td><td>0.534348539339</td><td>44</td><td>133</td><td>0.0100611670495 .. 0.0371331355371</td><td>jwst-44-133</td></tr>\n",
       "<tr><td>1001.02937336</td><td>72.2009308677</td><td>46.8014049517</td><td>3.67606948534</td><td>2.94027253448</td><td>0.245388440184</td><td>72</td><td>47</td><td>0.00320277411248 .. 0.0140636535326</td><td>jwst-72-47</td></tr>\n",
       "<tr><td>3720.99315369</td><td>81.4181453615</td><td>168.06113855</td><td>2.42116081579</td><td>4.07696784701</td><td>1.06707599692</td><td>81</td><td>168</td><td>2.78324370053e-06 .. 0.000216688721074</td><td>jwst-81-168</td></tr>\n",
       "<tr><td>2320.80301735</td><td>106.987012121</td><td>14.9297667756</td><td>2.59430446725</td><td>4.62916745689</td><td>5.51753207516</td><td>107</td><td>15</td><td>0.299126306154 .. 0.676275001635</td><td>jwst-107-15</td></tr>\n",
       "</table>"
      ],
      "text/plain": [
       "<Table length=5>\n",
       "     flux         x_mean    ...      id    \n",
       "   float64       float64    ...    str11   \n",
       "------------- ------------- ... -----------\n",
       "4753.19804232 26.6209470584 ...  jwst-27-85\n",
       "7482.92044098  43.526838048 ... jwst-44-133\n",
       "1001.02937336 72.2009308677 ...  jwst-72-47\n",
       "3720.99315369 81.4181453615 ... jwst-81-168\n",
       "2320.80301735 106.987012121 ... jwst-107-15"
      ]
     },
     "execution_count": 9,
     "metadata": {},
     "output_type": "execute_result"
    }
   ],
   "source": [
    "# Add a source identifier to the table\n",
    "\n",
    "sources['id'] = ['jwst-{}-{}'.format(x0, y0) for x0, y0 in sources['x0', 'y0']]\n",
    "\n",
    "sources"
   ]
  },
  {
   "cell_type": "code",
   "execution_count": 10,
   "metadata": {
    "collapsed": false,
    "nbpresent": {
     "id": "aa357512-ca20-45d2-9c54-0add8be17ff7"
    },
    "scrolled": true
   },
   "outputs": [
    {
     "data": {
      "text/html": [
       "&lt;Table length=5&gt;\n",
       "<table id=\"table4482906992\" class=\"table-striped table-bordered table-condensed\">\n",
       "<thead><tr><th>id</th><th>flux</th><th>x_mean</th><th>y_mean</th><th>x_stddev</th><th>y_stddev</th><th>theta</th><th>x0</th><th>y0</th><th>cutout [20,20]</th></tr></thead>\n",
       "<thead><tr><th></th><th>electron</th><th></th><th></th><th></th><th></th><th>rad</th><th></th><th></th><th></th></tr></thead>\n",
       "<thead><tr><th>str11</th><th>float64</th><th>float64</th><th>float64</th><th>float64</th><th>float64</th><th>float64</th><th>int64</th><th>int64</th><th>float64</th></tr></thead>\n",
       "<tr><td>jwst-27-85</td><td>4753.198</td><td>26.621</td><td>85.455</td><td>4.011</td><td>4.402</td><td>5.621</td><td>27</td><td>85</td><td>0.233 .. 0.657</td></tr>\n",
       "<tr><td>jwst-44-133</td><td>7482.920</td><td>43.527</td><td>133.340</td><td>3.252</td><td>4.905</td><td>0.534</td><td>44</td><td>133</td><td>0.0101 .. 0.0371</td></tr>\n",
       "<tr><td>jwst-72-47</td><td>1001.029</td><td>72.201</td><td>46.801</td><td>3.676</td><td>2.940</td><td>0.245</td><td>72</td><td>47</td><td>0.0032 .. 0.0141</td></tr>\n",
       "<tr><td>jwst-81-168</td><td>3720.993</td><td>81.418</td><td>168.061</td><td>2.421</td><td>4.077</td><td>1.067</td><td>81</td><td>168</td><td>2.78e-06 .. 0.000217</td></tr>\n",
       "<tr><td>jwst-107-15</td><td>2320.803</td><td>106.987</td><td>14.930</td><td>2.594</td><td>4.629</td><td>5.518</td><td>107</td><td>15</td><td>0.299 .. 0.676</td></tr>\n",
       "</table>"
      ],
      "text/plain": [
       "<Table length=5>\n",
       "     id       flux    x_mean  y_mean ...   x0    y0     cutout [20,20]   \n",
       "            electron                 ...                                 \n",
       "   str11    float64  float64 float64 ... int64 int64       float64       \n",
       "----------- -------- ------- ------- ... ----- ----- --------------------\n",
       " jwst-27-85 4753.198  26.621  85.455 ...    27    85       0.233 .. 0.657\n",
       "jwst-44-133 7482.920  43.527 133.340 ...    44   133     0.0101 .. 0.0371\n",
       " jwst-72-47 1001.029  72.201  46.801 ...    72    47     0.0032 .. 0.0141\n",
       "jwst-81-168 3720.993  81.418 168.061 ...    81   168 2.78e-06 .. 0.000217\n",
       "jwst-107-15 2320.803 106.987  14.930 ...   107    15       0.299 .. 0.676"
      ]
     },
     "execution_count": 10,
     "metadata": {},
     "output_type": "execute_result"
    }
   ],
   "source": [
    "# Let's be a little fussy about the Table:\n",
    "#  - Put the 'id' column first\n",
    "#  - Make the precision of table outputs more reasonable (and beautiful!)\n",
    "#  - Add units to `flux` and `theta` columns\n",
    "\n",
    "sources_id = sources['id']\n",
    "del sources['id']\n",
    "sources.add_column(sources_id, index=0)\n",
    "\n",
    "for name in ('flux', 'x_mean', 'y_mean', 'x_stddev', 'y_stddev', 'theta'):\n",
    "    sources[name].format = '.3f'  # Could also use '%.3f' or '{:.3f}'\n",
    "sources['cutout'].format = '.3g'\n",
    "\n",
    "sources['flux'].unit = u.electron\n",
    "sources['theta'].unit = u.rad\n",
    "\n",
    "sources"
   ]
  },
  {
   "cell_type": "markdown",
   "metadata": {},
   "source": [
    "### Digression: table summary information"
   ]
  },
  {
   "cell_type": "code",
   "execution_count": 11,
   "metadata": {
    "collapsed": false
   },
   "outputs": [
    {
     "data": {
      "text/plain": [
       "<Table length=5>\n",
       "  name    dtype   shape     unit   format\n",
       "-------- ------- -------- -------- ------\n",
       "      id   str11                         \n",
       "    flux float64          electron    .3f\n",
       "  x_mean float64                      .3f\n",
       "  y_mean float64                      .3f\n",
       "x_stddev float64                      .3f\n",
       "y_stddev float64                      .3f\n",
       "   theta float64               rad    .3f\n",
       "      x0   int64                         \n",
       "      y0   int64                         \n",
       "  cutout float64 (20, 20)             .3g"
      ]
     },
     "execution_count": 11,
     "metadata": {},
     "output_type": "execute_result"
    }
   ],
   "source": [
    "sources.info"
   ]
  },
  {
   "cell_type": "code",
   "execution_count": 12,
   "metadata": {
    "collapsed": false
   },
   "outputs": [
    {
     "name": "stdout",
     "output_type": "stream",
     "text": [
      "<Table length=5>\n",
      "  name        mean          std              min             max     \n",
      "-------- ------------- -------------- ----------------- -------------\n",
      "      id            --             --                --            --\n",
      "    flux 3855.78880554  2212.93605386     1001.02937336 7482.92044098\n",
      "  x_mean 66.1507746912  28.3257658899     26.6209470584 106.987012121\n",
      "  y_mean 89.7173665883  55.6664540236     14.9297667756  168.06113855\n",
      "x_stddev  3.1909703412 0.610042819261     2.42116081579 4.01140253054\n",
      "y_stddev 4.19068525431 0.681677499286     2.94027253448 4.90478472716\n",
      "   theta 2.59706489909   2.4412797746    0.245388440184 5.62097944383\n",
      "      x0          66.2  28.0955512493                27           107\n",
      "      y0          89.6  55.5539377542                15           168\n",
      "  cutout 9.37452077298  13.4002193774 2.78324370053e-06 74.0353588184\n"
     ]
    }
   ],
   "source": [
    "sources.info('stats')\n",
    "# You can write your own info specifications!"
   ]
  },
  {
   "cell_type": "markdown",
   "metadata": {},
   "source": [
    "## Make fake observations of these sources in 5 bands 'u', 'b', 'v', 'r', 'k'"
   ]
  },
  {
   "cell_type": "code",
   "execution_count": 13,
   "metadata": {
    "collapsed": true
   },
   "outputs": [],
   "source": [
    "def make_observation(sources, band, flux_mult):\n",
    "    \"\"\"\n",
    "    Make fake observation of ``sources`` in a field in ``band``.  Apply\n",
    "    ``flux_mult`` flux multiplier and some gaussian noise on parameters.\n",
    "    \"\"\"\n",
    "    n = len(sources)\n",
    "    out = sources.copy()\n",
    "\n",
    "    # Multiply flux by randomized version of flux_mult\n",
    "    out['flux'] *= flux_mult * np.random.normal(loc=1, scale=0.1, size=n)\n",
    "\n",
    "    # Add 1.0 pixel of position and stddev noise\n",
    "    for name in ('x_mean', 'y_mean'):\n",
    "        out[name] += np.random.normal(loc=0, scale=1.0, size=n)\n",
    "  \n",
    "    # Add 0.1 pixel noise to stddev\n",
    "    for name in ('x_stddev', 'y_stddev'):\n",
    "        out[name] += np.random.normal(loc=0, scale=0.1, size=n)\n",
    "        \n",
    "    # Add a list that repeats the ``band`` as the second column\n",
    "    out.add_column(Column([band] * n, name='band'), index=1)\n",
    "    \n",
    "    # Make integer columns with rounded representation of source mean position  \n",
    "    sources['x0'] = np.round(sources['x_mean']).astype(int)\n",
    "    sources['y0'] = np.round(sources['y_mean']).astype(int)\n",
    "    \n",
    "    # Generate list of cutout images around each source\n",
    "    img = photutils.datasets.make_gaussian_sources(image_shape=(200, 200), source_table=out)\n",
    "    npix = 10\n",
    "    cutouts = [img[y0-npix:y0+npix, x0-npix:x0+npix] for x0, y0 in sources['x0', 'y0']]\n",
    "    sources['cutout'] = cutouts\n",
    "\n",
    "    return out"
   ]
  },
  {
   "cell_type": "code",
   "execution_count": 14,
   "metadata": {
    "collapsed": false,
    "scrolled": true
   },
   "outputs": [
    {
     "data": {
      "text/html": [
       "&lt;Table length=5&gt;\n",
       "<table id=\"table4598253160\" class=\"table-striped table-bordered table-condensed\">\n",
       "<thead><tr><th>id</th><th>band</th><th>flux</th><th>x_mean</th><th>y_mean</th><th>x_stddev</th><th>y_stddev</th><th>theta</th><th>x0</th><th>y0</th><th>cutout [20,20]</th></tr></thead>\n",
       "<thead><tr><th></th><th></th><th>electron</th><th></th><th></th><th></th><th></th><th>rad</th><th></th><th></th><th></th></tr></thead>\n",
       "<thead><tr><th>str11</th><th>str1</th><th>float64</th><th>float64</th><th>float64</th><th>float64</th><th>float64</th><th>float64</th><th>int64</th><th>int64</th><th>float64</th></tr></thead>\n",
       "<tr><td>jwst-27-85</td><td>u</td><td>542.161</td><td>26.796</td><td>84.875</td><td>4.079</td><td>4.522</td><td>5.621</td><td>27</td><td>85</td><td>0.233 .. 0.657</td></tr>\n",
       "<tr><td>jwst-44-133</td><td>u</td><td>685.840</td><td>43.480</td><td>131.688</td><td>3.239</td><td>4.889</td><td>0.534</td><td>44</td><td>133</td><td>0.0101 .. 0.0371</td></tr>\n",
       "<tr><td>jwst-72-47</td><td>u</td><td>108.673</td><td>70.252</td><td>44.922</td><td>3.742</td><td>2.768</td><td>0.245</td><td>72</td><td>47</td><td>0.0032 .. 0.0141</td></tr>\n",
       "<tr><td>jwst-81-168</td><td>u</td><td>372.744</td><td>81.446</td><td>169.591</td><td>2.331</td><td>3.946</td><td>1.067</td><td>81</td><td>168</td><td>2.78e-06 .. 0.000217</td></tr>\n",
       "<tr><td>jwst-107-15</td><td>u</td><td>225.277</td><td>107.027</td><td>14.082</td><td>2.631</td><td>4.617</td><td>5.518</td><td>107</td><td>15</td><td>0.299 .. 0.676</td></tr>\n",
       "</table>"
      ],
      "text/plain": [
       "<Table length=5>\n",
       "     id     band   flux    x_mean ...  theta    x0    y0     cutout [20,20]   \n",
       "                 electron         ...   rad                                   \n",
       "   str11    str1 float64  float64 ... float64 int64 int64       float64       \n",
       "----------- ---- -------- ------- ... ------- ----- ----- --------------------\n",
       " jwst-27-85    u  542.161  26.796 ...   5.621    27    85       0.233 .. 0.657\n",
       "jwst-44-133    u  685.840  43.480 ...   0.534    44   133     0.0101 .. 0.0371\n",
       " jwst-72-47    u  108.673  70.252 ...   0.245    72    47     0.0032 .. 0.0141\n",
       "jwst-81-168    u  372.744  81.446 ...   1.067    81   168 2.78e-06 .. 0.000217\n",
       "jwst-107-15    u  225.277 107.027 ...   5.518   107    15       0.299 .. 0.676"
      ]
     },
     "execution_count": 14,
     "metadata": {},
     "output_type": "execute_result"
    }
   ],
   "source": [
    "sources_list = []\n",
    "for band, flux_mult in [('u', 0.1), \n",
    "                        ('b', 0.2), \n",
    "                        ('v', 0.5), \n",
    "                        ('r', 1.0), \n",
    "                        ('k', 1.5)]:\n",
    "    sources_list.append(make_observation(sources, band, flux_mult))\n",
    "    \n",
    "sources_list[0]"
   ]
  },
  {
   "cell_type": "code",
   "execution_count": 15,
   "metadata": {
    "collapsed": false
   },
   "outputs": [],
   "source": [
    "# Pretend that there are non-detections in some bands\n",
    "\n",
    "sources_list[0].remove_rows([1,2,3,4])\n",
    "sources_list[1].remove_row(1)\n",
    "sources_list[3].remove_row(0)"
   ]
  },
  {
   "cell_type": "markdown",
   "metadata": {},
   "source": [
    "## Database-like features for more power: vstack, indexing, and grouping\n",
    "\n",
    "Our list of source tables has the raw data we need for analysis but is inconvenient.  Things we'd like to do:\n",
    "\n",
    "- Find all observations of a particular source\n",
    "- List all sources in a particular band\n",
    "- Compute statistics for a particular source (mean centroid, mean image cutout)\n",
    "\n",
    "See [Table high-level operations](http://docs.astropy.org/en/stable/table/operations.html) for all the details."
   ]
  },
  {
   "cell_type": "markdown",
   "metadata": {},
   "source": [
    "### Stacking"
   ]
  },
  {
   "cell_type": "code",
   "execution_count": 16,
   "metadata": {
    "collapsed": false
   },
   "outputs": [
    {
     "data": {
      "text/html": [
       "&lt;Table length=19&gt;\n",
       "<table id=\"table4598217584\" class=\"table-striped table-bordered table-condensed\">\n",
       "<thead><tr><th>id</th><th>band</th><th>flux</th><th>x_mean</th><th>y_mean</th><th>x_stddev</th><th>y_stddev</th><th>theta</th><th>x0</th><th>y0</th><th>cutout [20,20]</th></tr></thead>\n",
       "<thead><tr><th></th><th></th><th>electron</th><th></th><th></th><th></th><th></th><th>rad</th><th></th><th></th><th></th></tr></thead>\n",
       "<thead><tr><th>str11</th><th>str1</th><th>float64</th><th>float64</th><th>float64</th><th>float64</th><th>float64</th><th>float64</th><th>int64</th><th>int64</th><th>float64</th></tr></thead>\n",
       "<tr><td>jwst-27-85</td><td>u</td><td>542.161</td><td>26.796</td><td>84.875</td><td>4.079</td><td>4.522</td><td>5.621</td><td>27</td><td>85</td><td>0.233 .. 0.657</td></tr>\n",
       "<tr><td>jwst-27-85</td><td>b</td><td>961.366</td><td>25.561</td><td>84.482</td><td>3.993</td><td>4.567</td><td>5.621</td><td>27</td><td>85</td><td>0.0406 .. 0.0758</td></tr>\n",
       "<tr><td>jwst-72-47</td><td>b</td><td>165.345</td><td>71.401</td><td>47.807</td><td>3.531</td><td>3.038</td><td>0.245</td><td>72</td><td>47</td><td>0.00601 .. 4.76e-05</td></tr>\n",
       "<tr><td>jwst-81-168</td><td>b</td><td>841.712</td><td>81.361</td><td>167.236</td><td>2.543</td><td>4.032</td><td>1.067</td><td>81</td><td>168</td><td>2.58e-09 .. 0.000124</td></tr>\n",
       "<tr><td>jwst-107-15</td><td>b</td><td>438.521</td><td>106.626</td><td>16.157</td><td>2.649</td><td>4.914</td><td>5.518</td><td>107</td><td>15</td><td>0.0386 .. 0.0441</td></tr>\n",
       "<tr><td>jwst-27-85</td><td>v</td><td>2730.076</td><td>27.222</td><td>85.613</td><td>4.063</td><td>4.464</td><td>5.621</td><td>27</td><td>85</td><td>0.167 .. 0.0673</td></tr>\n",
       "<tr><td>jwst-44-133</td><td>v</td><td>4141.492</td><td>42.311</td><td>130.946</td><td>3.231</td><td>4.980</td><td>0.534</td><td>44</td><td>133</td><td>0.000878 .. 0.0272</td></tr>\n",
       "<tr><td>jwst-72-47</td><td>v</td><td>502.016</td><td>71.991</td><td>46.030</td><td>3.756</td><td>3.061</td><td>0.245</td><td>72</td><td>47</td><td>0.000255 .. 0.00265</td></tr>\n",
       "<tr><td>jwst-81-168</td><td>v</td><td>1677.160</td><td>81.818</td><td>167.237</td><td>2.400</td><td>4.231</td><td>1.067</td><td>81</td><td>168</td><td>1.2e-05 .. 3.75e-05</td></tr>\n",
       "<tr><td>jwst-107-15</td><td>v</td><td>1099.091</td><td>107.488</td><td>15.461</td><td>2.596</td><td>4.668</td><td>5.518</td><td>107</td><td>15</td><td>0.0579 .. 0.223</td></tr>\n",
       "<tr><td>jwst-44-133</td><td>r</td><td>8285.425</td><td>43.623</td><td>130.698</td><td>3.289</td><td>5.050</td><td>0.534</td><td>44</td><td>133</td><td>0.088 .. 0.000783</td></tr>\n",
       "<tr><td>jwst-72-47</td><td>r</td><td>1080.742</td><td>71.696</td><td>46.625</td><td>3.655</td><td>3.037</td><td>0.245</td><td>72</td><td>47</td><td>0.00548 .. 0.00424</td></tr>\n",
       "<tr><td>jwst-81-168</td><td>r</td><td>3405.251</td><td>80.637</td><td>168.636</td><td>2.291</td><td>4.147</td><td>1.067</td><td>81</td><td>168</td><td>2.71e-06 .. 2.86e-05</td></tr>\n",
       "<tr><td>jwst-107-15</td><td>r</td><td>2334.367</td><td>106.672</td><td>14.248</td><td>2.483</td><td>4.839</td><td>5.518</td><td>107</td><td>15</td><td>0.0935 .. 0.513</td></tr>\n",
       "<tr><td>jwst-27-85</td><td>k</td><td>7294.174</td><td>27.738</td><td>86.412</td><td>3.912</td><td>4.517</td><td>5.621</td><td>27</td><td>85</td><td>0.183 .. 0.474</td></tr>\n",
       "<tr><td>jwst-44-133</td><td>k</td><td>11620.277</td><td>42.874</td><td>134.004</td><td>3.326</td><td>4.930</td><td>0.534</td><td>44</td><td>133</td><td>0.0768 .. 0.00713</td></tr>\n",
       "<tr><td>jwst-72-47</td><td>k</td><td>1556.597</td><td>73.115</td><td>47.498</td><td>3.730</td><td>2.929</td><td>0.245</td><td>72</td><td>47</td><td>0.00633 .. 0.0103</td></tr>\n",
       "<tr><td>jwst-81-168</td><td>k</td><td>5256.071</td><td>82.543</td><td>167.860</td><td>2.544</td><td>4.193</td><td>1.067</td><td>81</td><td>168</td><td>3.52e-07 .. 5.39e-05</td></tr>\n",
       "<tr><td>jwst-107-15</td><td>k</td><td>3447.944</td><td>107.774</td><td>15.124</td><td>2.566</td><td>4.620</td><td>5.518</td><td>107</td><td>15</td><td>0.663 .. 0.632</td></tr>\n",
       "</table>"
      ],
      "text/plain": [
       "<Table length=19>\n",
       "     id     band    flux    x_mean ...  theta    x0    y0     cutout [20,20]   \n",
       "                  electron         ...   rad                                   \n",
       "   str11    str1  float64  float64 ... float64 int64 int64       float64       \n",
       "----------- ---- --------- ------- ... ------- ----- ----- --------------------\n",
       " jwst-27-85    u   542.161  26.796 ...   5.621    27    85       0.233 .. 0.657\n",
       " jwst-27-85    b   961.366  25.561 ...   5.621    27    85     0.0406 .. 0.0758\n",
       " jwst-72-47    b   165.345  71.401 ...   0.245    72    47  0.00601 .. 4.76e-05\n",
       "jwst-81-168    b   841.712  81.361 ...   1.067    81   168 2.58e-09 .. 0.000124\n",
       "jwst-107-15    b   438.521 106.626 ...   5.518   107    15     0.0386 .. 0.0441\n",
       " jwst-27-85    v  2730.076  27.222 ...   5.621    27    85      0.167 .. 0.0673\n",
       "jwst-44-133    v  4141.492  42.311 ...   0.534    44   133   0.000878 .. 0.0272\n",
       " jwst-72-47    v   502.016  71.991 ...   0.245    72    47  0.000255 .. 0.00265\n",
       "jwst-81-168    v  1677.160  81.818 ...   1.067    81   168  1.2e-05 .. 3.75e-05\n",
       "jwst-107-15    v  1099.091 107.488 ...   5.518   107    15      0.0579 .. 0.223\n",
       "jwst-44-133    r  8285.425  43.623 ...   0.534    44   133    0.088 .. 0.000783\n",
       " jwst-72-47    r  1080.742  71.696 ...   0.245    72    47   0.00548 .. 0.00424\n",
       "jwst-81-168    r  3405.251  80.637 ...   1.067    81   168 2.71e-06 .. 2.86e-05\n",
       "jwst-107-15    r  2334.367 106.672 ...   5.518   107    15      0.0935 .. 0.513\n",
       " jwst-27-85    k  7294.174  27.738 ...   5.621    27    85       0.183 .. 0.474\n",
       "jwst-44-133    k 11620.277  42.874 ...   0.534    44   133    0.0768 .. 0.00713\n",
       " jwst-72-47    k  1556.597  73.115 ...   0.245    72    47    0.00633 .. 0.0103\n",
       "jwst-81-168    k  5256.071  82.543 ...   1.067    81   168 3.52e-07 .. 5.39e-05\n",
       "jwst-107-15    k  3447.944 107.774 ...   5.518   107    15       0.663 .. 0.632"
      ]
     },
     "execution_count": 16,
     "metadata": {},
     "output_type": "execute_result"
    }
   ],
   "source": [
    "# Stack the list of tables to create a single table (database) of every source observation.\n",
    "\n",
    "srcs = vstack(sources_list)\n",
    "\n",
    "srcs"
   ]
  },
  {
   "cell_type": "markdown",
   "metadata": {},
   "source": [
    "### Indexing\n",
    "\n",
    "- Indexing means that supplemental information (an index) is added to the table that allows access to particular elements in `time << O(N)`.  \n",
    "- In the case of astropy Table it uses a binary search of an ordered index table `O(log(N))`."
   ]
  },
  {
   "cell_type": "code",
   "execution_count": 17,
   "metadata": {
    "collapsed": true,
    "nbpresent": {
     "id": "f42e3d62-29c9-40e7-a26e-f698183458c1"
    }
   },
   "outputs": [],
   "source": [
    "# Now add a database index on the `id` column.  This becomes the 'primary key'.\n",
    "# In this case it does not need to be unique, though one can declare that an\n",
    "# index must be unique.\n",
    "\n",
    "srcs.add_index('id')"
   ]
  },
  {
   "cell_type": "code",
   "execution_count": 18,
   "metadata": {
    "collapsed": false
   },
   "outputs": [
    {
     "data": {
      "text/html": [
       "&lt;Table length=4&gt;\n",
       "<table id=\"table4598408920\" class=\"table-striped table-bordered table-condensed\">\n",
       "<thead><tr><th>id</th><th>band</th><th>flux</th><th>x_mean</th><th>y_mean</th><th>x_stddev</th><th>y_stddev</th><th>theta</th><th>x0</th><th>y0</th><th>cutout [20,20]</th></tr></thead>\n",
       "<thead><tr><th></th><th></th><th>electron</th><th></th><th></th><th></th><th></th><th>rad</th><th></th><th></th><th></th></tr></thead>\n",
       "<thead><tr><th>str11</th><th>str1</th><th>float64</th><th>float64</th><th>float64</th><th>float64</th><th>float64</th><th>float64</th><th>int64</th><th>int64</th><th>float64</th></tr></thead>\n",
       "<tr><td>jwst-27-85</td><td>v</td><td>2730.076</td><td>27.222</td><td>85.613</td><td>4.063</td><td>4.464</td><td>5.621</td><td>27</td><td>85</td><td>0.167 .. 0.0673</td></tr>\n",
       "<tr><td>jwst-27-85</td><td>b</td><td>961.366</td><td>25.561</td><td>84.482</td><td>3.993</td><td>4.567</td><td>5.621</td><td>27</td><td>85</td><td>0.0406 .. 0.0758</td></tr>\n",
       "<tr><td>jwst-27-85</td><td>k</td><td>7294.174</td><td>27.738</td><td>86.412</td><td>3.912</td><td>4.517</td><td>5.621</td><td>27</td><td>85</td><td>0.183 .. 0.474</td></tr>\n",
       "<tr><td>jwst-27-85</td><td>u</td><td>542.161</td><td>26.796</td><td>84.875</td><td>4.079</td><td>4.522</td><td>5.621</td><td>27</td><td>85</td><td>0.233 .. 0.657</td></tr>\n",
       "</table>"
      ],
      "text/plain": [
       "<Table length=4>\n",
       "    id     band   flux    x_mean ...  theta    x0    y0   cutout [20,20] \n",
       "                electron         ...   rad                               \n",
       "  str11    str1 float64  float64 ... float64 int64 int64     float64     \n",
       "---------- ---- -------- ------- ... ------- ----- ----- ----------------\n",
       "jwst-27-85    v 2730.076  27.222 ...   5.621    27    85  0.167 .. 0.0673\n",
       "jwst-27-85    b  961.366  25.561 ...   5.621    27    85 0.0406 .. 0.0758\n",
       "jwst-27-85    k 7294.174  27.738 ...   5.621    27    85   0.183 .. 0.474\n",
       "jwst-27-85    u  542.161  26.796 ...   5.621    27    85   0.233 .. 0.657"
      ]
     },
     "execution_count": 18,
     "metadata": {},
     "output_type": "execute_result"
    }
   ],
   "source": [
    "# Now access elements with id == 'jwst-27-85'.  This should be familiar to Pandas users.\n",
    "# This returns another Table.\n",
    "\n",
    "srcs.loc['jwst-27-85']"
   ]
  },
  {
   "cell_type": "code",
   "execution_count": 19,
   "metadata": {
    "collapsed": false,
    "nbpresent": {
     "id": "807044a7-e521-41ae-83f9-9cfd677b2bd7"
    }
   },
   "outputs": [],
   "source": [
    "# Let's make a secondary index to allow slicing the table by band\n",
    "srcs.add_index('band')"
   ]
  },
  {
   "cell_type": "code",
   "execution_count": 20,
   "metadata": {
    "collapsed": false
   },
   "outputs": [
    {
     "data": {
      "text/html": [
       "&lt;Table length=4&gt;\n",
       "<table id=\"table4600040192\" class=\"table-striped table-bordered table-condensed\">\n",
       "<thead><tr><th>id</th><th>band</th><th>flux</th><th>x_mean</th><th>y_mean</th><th>x_stddev</th><th>y_stddev</th><th>theta</th><th>x0</th><th>y0</th><th>cutout [20,20]</th></tr></thead>\n",
       "<thead><tr><th></th><th></th><th>electron</th><th></th><th></th><th></th><th></th><th>rad</th><th></th><th></th><th></th></tr></thead>\n",
       "<thead><tr><th>str11</th><th>str1</th><th>float64</th><th>float64</th><th>float64</th><th>float64</th><th>float64</th><th>float64</th><th>int64</th><th>int64</th><th>float64</th></tr></thead>\n",
       "<tr><td>jwst-27-85</td><td>b</td><td>961.366</td><td>25.561</td><td>84.482</td><td>3.993</td><td>4.567</td><td>5.621</td><td>27</td><td>85</td><td>0.0406 .. 0.0758</td></tr>\n",
       "<tr><td>jwst-72-47</td><td>b</td><td>165.345</td><td>71.401</td><td>47.807</td><td>3.531</td><td>3.038</td><td>0.245</td><td>72</td><td>47</td><td>0.00601 .. 4.76e-05</td></tr>\n",
       "<tr><td>jwst-81-168</td><td>b</td><td>841.712</td><td>81.361</td><td>167.236</td><td>2.543</td><td>4.032</td><td>1.067</td><td>81</td><td>168</td><td>2.58e-09 .. 0.000124</td></tr>\n",
       "<tr><td>jwst-107-15</td><td>b</td><td>438.521</td><td>106.626</td><td>16.157</td><td>2.649</td><td>4.914</td><td>5.518</td><td>107</td><td>15</td><td>0.0386 .. 0.0441</td></tr>\n",
       "</table>"
      ],
      "text/plain": [
       "<Table length=4>\n",
       "     id     band   flux    x_mean ...  theta    x0    y0     cutout [20,20]   \n",
       "                 electron         ...   rad                                   \n",
       "   str11    str1 float64  float64 ... float64 int64 int64       float64       \n",
       "----------- ---- -------- ------- ... ------- ----- ----- --------------------\n",
       " jwst-27-85    b  961.366  25.561 ...   5.621    27    85     0.0406 .. 0.0758\n",
       " jwst-72-47    b  165.345  71.401 ...   0.245    72    47  0.00601 .. 4.76e-05\n",
       "jwst-81-168    b  841.712  81.361 ...   1.067    81   168 2.58e-09 .. 0.000124\n",
       "jwst-107-15    b  438.521 106.626 ...   5.518   107    15     0.0386 .. 0.0441"
      ]
     },
     "execution_count": 20,
     "metadata": {},
     "output_type": "execute_result"
    }
   ],
   "source": [
    "# Get a table of all 'b' band source detections\n",
    "\n",
    "srcs.loc['band', 'b']"
   ]
  },
  {
   "cell_type": "code",
   "execution_count": 21,
   "metadata": {
    "collapsed": false
   },
   "outputs": [
    {
     "data": {
      "text/html": [
       "&lt;Row index=0&gt;\n",
       "<table id=\"table4598217584\">\n",
       "<thead><tr><th>id</th><th>band</th><th>flux</th><th>x_mean</th><th>y_mean</th><th>x_stddev</th><th>y_stddev</th><th>theta</th><th>x0</th><th>y0</th><th>cutout [20,20]</th></tr></thead>\n",
       "<thead><tr><th></th><th></th><th>electron</th><th></th><th></th><th></th><th></th><th>rad</th><th></th><th></th><th></th></tr></thead>\n",
       "<thead><tr><th>str11</th><th>str1</th><th>float64</th><th>float64</th><th>float64</th><th>float64</th><th>float64</th><th>float64</th><th>int64</th><th>int64</th><th>float64</th></tr></thead>\n",
       "<tr><td>jwst-27-85</td><td>u</td><td>542.161</td><td>26.796</td><td>84.875</td><td>4.079</td><td>4.522</td><td>5.621</td><td>27</td><td>85</td><td>0.233 .. 0.657</td></tr>\n",
       "</table>"
      ],
      "text/plain": [
       "<Row index=0>\n",
       "    id     band   flux    x_mean  y_mean x_stddev y_stddev  theta    x0    y0  cutout [20,20]\n",
       "                electron                                     rad                             \n",
       "  str11    str1 float64  float64 float64 float64  float64  float64 int64 int64    float64    \n",
       "---------- ---- -------- ------- ------- -------- -------- ------- ----- ----- --------------\n",
       "jwst-27-85    u  542.161  26.796  84.875    4.079    4.522   5.621    27    85 0.233 .. 0.657"
      ]
     },
     "execution_count": 21,
     "metadata": {},
     "output_type": "execute_result"
    }
   ],
   "source": [
    "# A special case is if only one table row is selected, in which case\n",
    "# a Row object is returned.  This is convenient for the common use case\n",
    "# of a table with unique keys.\n",
    "\n",
    "srcs.loc['band', 'u']"
   ]
  },
  {
   "cell_type": "markdown",
   "metadata": {},
   "source": [
    "### Digression: difference between Row and length=1 Table\n",
    "\n",
    "- Indexing a single element of a table returns a `Row` object which can be used to set or access a column value.  This always returns a scalar value.\n",
    "- Indexing a single row slice of a table returns a Table, so accessing a column returns a `Column` object (an array) with a length of 1.\n",
    "- This is consistent with numpy structured arrays and Pandas (`df.ix[0]` vs. `df[0:1]`)."
   ]
  },
  {
   "cell_type": "code",
   "execution_count": 22,
   "metadata": {
    "collapsed": false
   },
   "outputs": [
    {
     "data": {
      "text/plain": [
       "'u'"
      ]
     },
     "execution_count": 22,
     "metadata": {},
     "output_type": "execute_result"
    }
   ],
   "source": [
    "srcs[0]['band']"
   ]
  },
  {
   "cell_type": "code",
   "execution_count": 23,
   "metadata": {
    "collapsed": false
   },
   "outputs": [
    {
     "data": {
      "text/html": [
       "&lt;Column name=&apos;band&apos; dtype=&apos;str1&apos; length=1&gt;\n",
       "<table>\n",
       "<tr><td>u</td></tr>\n",
       "</table>"
      ],
      "text/plain": [
       "<Column name='band' dtype='str1' length=1>\n",
       "u"
      ]
     },
     "execution_count": 23,
     "metadata": {},
     "output_type": "execute_result"
    }
   ],
   "source": [
    "srcs[0:1]['band']"
   ]
  },
  {
   "cell_type": "markdown",
   "metadata": {},
   "source": [
    "### Digression: table access performance\n",
    "\n",
    "**``srcs[0:1]['band']``** and **``srcs['band'][0:1]``** give the same output, but performance is very different!"
   ]
  },
  {
   "cell_type": "code",
   "execution_count": 24,
   "metadata": {
    "collapsed": false,
    "scrolled": true
   },
   "outputs": [
    {
     "name": "stdout",
     "output_type": "stream",
     "text": [
      "1000 loops, best of 3: 707 µs per loop\n"
     ]
    }
   ],
   "source": [
    "# This creates an entire new Table object (slow) and then selects one column (fast)\n",
    "%timeit srcs[0:1]['band']"
   ]
  },
  {
   "cell_type": "code",
   "execution_count": 25,
   "metadata": {
    "collapsed": false,
    "scrolled": true
   },
   "outputs": [
    {
     "name": "stdout",
     "output_type": "stream",
     "text": [
      "10000 loops, best of 3: 24.6 µs per loop\n"
     ]
    }
   ],
   "source": [
    "# This selects a column (fast) and then slices it (fast-ish, creates new Column)\n",
    "%timeit srcs['band'][0:1]"
   ]
  },
  {
   "cell_type": "code",
   "execution_count": 26,
   "metadata": {
    "collapsed": false,
    "scrolled": true
   },
   "outputs": [
    {
     "name": "stdout",
     "output_type": "stream",
     "text": [
      "The slowest run took 8.01 times longer than the fastest. This could mean that an intermediate result is being cached.\n",
      "100000 loops, best of 3: 2.38 µs per loop\n"
     ]
    }
   ],
   "source": [
    "# For the most performance, drop the `Column` machinery (no metadata) and use a straight numpy array\n",
    "\n",
    "%timeit np.array(srcs['band'], copy=False)[0:1]"
   ]
  },
  {
   "cell_type": "markdown",
   "metadata": {},
   "source": [
    "### Grouping\n",
    "\n",
    "Astropy `Table` supports the powerful concept of grouping which lets you group the rows into sub-tables which you can then:\n",
    "\n",
    "- [Examine](http://docs.astropy.org/en/stable/table/operations.html#manipulating-groups): select and loop over groups\n",
    "- [Aggregate](http://docs.astropy.org/en/stable/table/operations.html#aggregation): apply a reduction function like np.mean to each group\n",
    "- [Filter](http://docs.astropy.org/en/stable/table/operations.html#filtering): select groups by means a selection function\n",
    "\n",
    "This is a close cousin to indexing, and if a table is already indexed then creating the grouped version is faster."
   ]
  },
  {
   "cell_type": "code",
   "execution_count": 27,
   "metadata": {
    "collapsed": false,
    "nbpresent": {
     "id": "3c3ba47a-841e-4638-b91e-452cd02f111a"
    }
   },
   "outputs": [
    {
     "data": {
      "text/html": [
       "&lt;Table length=19&gt;\n",
       "<table id=\"table4598285312\" class=\"table-striped table-bordered table-condensed\">\n",
       "<thead><tr><th>id</th><th>band</th><th>flux</th><th>x_mean</th><th>y_mean</th><th>x_stddev</th><th>y_stddev</th><th>theta</th><th>x0</th><th>y0</th><th>cutout [20,20]</th></tr></thead>\n",
       "<thead><tr><th></th><th></th><th>electron</th><th></th><th></th><th></th><th></th><th>rad</th><th></th><th></th><th></th></tr></thead>\n",
       "<thead><tr><th>str11</th><th>str1</th><th>float64</th><th>float64</th><th>float64</th><th>float64</th><th>float64</th><th>float64</th><th>int64</th><th>int64</th><th>float64</th></tr></thead>\n",
       "<tr><td>jwst-107-15</td><td>v</td><td>1099.091</td><td>107.488</td><td>15.461</td><td>2.596</td><td>4.668</td><td>5.518</td><td>107</td><td>15</td><td>0.0579 .. 0.223</td></tr>\n",
       "<tr><td>jwst-107-15</td><td>r</td><td>2334.367</td><td>106.672</td><td>14.248</td><td>2.483</td><td>4.839</td><td>5.518</td><td>107</td><td>15</td><td>0.0935 .. 0.513</td></tr>\n",
       "<tr><td>jwst-107-15</td><td>b</td><td>438.521</td><td>106.626</td><td>16.157</td><td>2.649</td><td>4.914</td><td>5.518</td><td>107</td><td>15</td><td>0.0386 .. 0.0441</td></tr>\n",
       "<tr><td>jwst-107-15</td><td>k</td><td>3447.944</td><td>107.774</td><td>15.124</td><td>2.566</td><td>4.620</td><td>5.518</td><td>107</td><td>15</td><td>0.663 .. 0.632</td></tr>\n",
       "<tr><td>jwst-27-85</td><td>v</td><td>2730.076</td><td>27.222</td><td>85.613</td><td>4.063</td><td>4.464</td><td>5.621</td><td>27</td><td>85</td><td>0.167 .. 0.0673</td></tr>\n",
       "<tr><td>jwst-27-85</td><td>b</td><td>961.366</td><td>25.561</td><td>84.482</td><td>3.993</td><td>4.567</td><td>5.621</td><td>27</td><td>85</td><td>0.0406 .. 0.0758</td></tr>\n",
       "<tr><td>jwst-27-85</td><td>k</td><td>7294.174</td><td>27.738</td><td>86.412</td><td>3.912</td><td>4.517</td><td>5.621</td><td>27</td><td>85</td><td>0.183 .. 0.474</td></tr>\n",
       "<tr><td>jwst-27-85</td><td>u</td><td>542.161</td><td>26.796</td><td>84.875</td><td>4.079</td><td>4.522</td><td>5.621</td><td>27</td><td>85</td><td>0.233 .. 0.657</td></tr>\n",
       "<tr><td>jwst-44-133</td><td>v</td><td>4141.492</td><td>42.311</td><td>130.946</td><td>3.231</td><td>4.980</td><td>0.534</td><td>44</td><td>133</td><td>0.000878 .. 0.0272</td></tr>\n",
       "<tr><td>jwst-44-133</td><td>r</td><td>8285.425</td><td>43.623</td><td>130.698</td><td>3.289</td><td>5.050</td><td>0.534</td><td>44</td><td>133</td><td>0.088 .. 0.000783</td></tr>\n",
       "<tr><td>jwst-44-133</td><td>k</td><td>11620.277</td><td>42.874</td><td>134.004</td><td>3.326</td><td>4.930</td><td>0.534</td><td>44</td><td>133</td><td>0.0768 .. 0.00713</td></tr>\n",
       "<tr><td>jwst-72-47</td><td>b</td><td>165.345</td><td>71.401</td><td>47.807</td><td>3.531</td><td>3.038</td><td>0.245</td><td>72</td><td>47</td><td>0.00601 .. 4.76e-05</td></tr>\n",
       "<tr><td>jwst-72-47</td><td>v</td><td>502.016</td><td>71.991</td><td>46.030</td><td>3.756</td><td>3.061</td><td>0.245</td><td>72</td><td>47</td><td>0.000255 .. 0.00265</td></tr>\n",
       "<tr><td>jwst-72-47</td><td>r</td><td>1080.742</td><td>71.696</td><td>46.625</td><td>3.655</td><td>3.037</td><td>0.245</td><td>72</td><td>47</td><td>0.00548 .. 0.00424</td></tr>\n",
       "<tr><td>jwst-72-47</td><td>k</td><td>1556.597</td><td>73.115</td><td>47.498</td><td>3.730</td><td>2.929</td><td>0.245</td><td>72</td><td>47</td><td>0.00633 .. 0.0103</td></tr>\n",
       "<tr><td>jwst-81-168</td><td>v</td><td>1677.160</td><td>81.818</td><td>167.237</td><td>2.400</td><td>4.231</td><td>1.067</td><td>81</td><td>168</td><td>1.2e-05 .. 3.75e-05</td></tr>\n",
       "<tr><td>jwst-81-168</td><td>k</td><td>5256.071</td><td>82.543</td><td>167.860</td><td>2.544</td><td>4.193</td><td>1.067</td><td>81</td><td>168</td><td>3.52e-07 .. 5.39e-05</td></tr>\n",
       "<tr><td>jwst-81-168</td><td>r</td><td>3405.251</td><td>80.637</td><td>168.636</td><td>2.291</td><td>4.147</td><td>1.067</td><td>81</td><td>168</td><td>2.71e-06 .. 2.86e-05</td></tr>\n",
       "<tr><td>jwst-81-168</td><td>b</td><td>841.712</td><td>81.361</td><td>167.236</td><td>2.543</td><td>4.032</td><td>1.067</td><td>81</td><td>168</td><td>2.58e-09 .. 0.000124</td></tr>\n",
       "</table>"
      ],
      "text/plain": [
       "<Table length=19>\n",
       "     id     band    flux    x_mean ...  theta    x0    y0     cutout [20,20]   \n",
       "                  electron         ...   rad                                   \n",
       "   str11    str1  float64  float64 ... float64 int64 int64       float64       \n",
       "----------- ---- --------- ------- ... ------- ----- ----- --------------------\n",
       "jwst-107-15    v  1099.091 107.488 ...   5.518   107    15      0.0579 .. 0.223\n",
       "jwst-107-15    r  2334.367 106.672 ...   5.518   107    15      0.0935 .. 0.513\n",
       "jwst-107-15    b   438.521 106.626 ...   5.518   107    15     0.0386 .. 0.0441\n",
       "jwst-107-15    k  3447.944 107.774 ...   5.518   107    15       0.663 .. 0.632\n",
       " jwst-27-85    v  2730.076  27.222 ...   5.621    27    85      0.167 .. 0.0673\n",
       " jwst-27-85    b   961.366  25.561 ...   5.621    27    85     0.0406 .. 0.0758\n",
       " jwst-27-85    k  7294.174  27.738 ...   5.621    27    85       0.183 .. 0.474\n",
       " jwst-27-85    u   542.161  26.796 ...   5.621    27    85       0.233 .. 0.657\n",
       "jwst-44-133    v  4141.492  42.311 ...   0.534    44   133   0.000878 .. 0.0272\n",
       "jwst-44-133    r  8285.425  43.623 ...   0.534    44   133    0.088 .. 0.000783\n",
       "jwst-44-133    k 11620.277  42.874 ...   0.534    44   133    0.0768 .. 0.00713\n",
       " jwst-72-47    b   165.345  71.401 ...   0.245    72    47  0.00601 .. 4.76e-05\n",
       " jwst-72-47    v   502.016  71.991 ...   0.245    72    47  0.000255 .. 0.00265\n",
       " jwst-72-47    r  1080.742  71.696 ...   0.245    72    47   0.00548 .. 0.00424\n",
       " jwst-72-47    k  1556.597  73.115 ...   0.245    72    47    0.00633 .. 0.0103\n",
       "jwst-81-168    v  1677.160  81.818 ...   1.067    81   168  1.2e-05 .. 3.75e-05\n",
       "jwst-81-168    k  5256.071  82.543 ...   1.067    81   168 3.52e-07 .. 5.39e-05\n",
       "jwst-81-168    r  3405.251  80.637 ...   1.067    81   168 2.71e-06 .. 2.86e-05\n",
       "jwst-81-168    b   841.712  81.361 ...   1.067    81   168 2.58e-09 .. 0.000124"
      ]
     },
     "execution_count": 27,
     "metadata": {},
     "output_type": "execute_result"
    }
   ],
   "source": [
    "srcs_grouped = srcs.group_by('id')\n",
    "\n",
    "# srcs_grouped has all the same rows but now ordered by ``id``\n",
    "srcs_grouped"
   ]
  },
  {
   "cell_type": "code",
   "execution_count": 28,
   "metadata": {
    "collapsed": false
   },
   "outputs": [
    {
     "name": "stdout",
     "output_type": "stream",
     "text": [
      "     id     band   flux    x_mean y_mean ... theta  x0  y0  cutout [20,20] \n",
      "                 electron                ...  rad                          \n",
      "----------- ---- -------- ------- ------ ... ----- --- --- ----------------\n",
      "jwst-107-15    v 1099.091 107.488 15.461 ... 5.518 107  15  0.0579 .. 0.223\n",
      "jwst-107-15    r 2334.367 106.672 14.248 ... 5.518 107  15  0.0935 .. 0.513\n",
      "jwst-107-15    b  438.521 106.626 16.157 ... 5.518 107  15 0.0386 .. 0.0441\n",
      "jwst-107-15    k 3447.944 107.774 15.124 ... 5.518 107  15   0.663 .. 0.632\n",
      "    id     band   flux   x_mean y_mean ... theta  x0  y0  cutout [20,20] \n",
      "                electron               ...  rad                          \n",
      "---------- ---- -------- ------ ------ ... ----- --- --- ----------------\n",
      "jwst-27-85    v 2730.076 27.222 85.613 ... 5.621  27  85  0.167 .. 0.0673\n",
      "jwst-27-85    b  961.366 25.561 84.482 ... 5.621  27  85 0.0406 .. 0.0758\n",
      "jwst-27-85    k 7294.174 27.738 86.412 ... 5.621  27  85   0.183 .. 0.474\n",
      "jwst-27-85    u  542.161 26.796 84.875 ... 5.621  27  85   0.233 .. 0.657\n",
      "     id     band    flux   x_mean  y_mean ... theta  x0  y0   cutout [20,20]  \n",
      "                  electron                ...  rad                            \n",
      "----------- ---- --------- ------ ------- ... ----- --- --- ------------------\n",
      "jwst-44-133    v  4141.492 42.311 130.946 ... 0.534  44 133 0.000878 .. 0.0272\n",
      "jwst-44-133    r  8285.425 43.623 130.698 ... 0.534  44 133  0.088 .. 0.000783\n",
      "jwst-44-133    k 11620.277 42.874 134.004 ... 0.534  44 133  0.0768 .. 0.00713\n",
      "    id     band   flux   x_mean y_mean ... theta  x0  y0    cutout [20,20]  \n",
      "                electron               ...  rad                             \n",
      "---------- ---- -------- ------ ------ ... ----- --- --- -------------------\n",
      "jwst-72-47    b  165.345 71.401 47.807 ... 0.245  72  47 0.00601 .. 4.76e-05\n",
      "jwst-72-47    v  502.016 71.991 46.030 ... 0.245  72  47 0.000255 .. 0.00265\n",
      "jwst-72-47    r 1080.742 71.696 46.625 ... 0.245  72  47  0.00548 .. 0.00424\n",
      "jwst-72-47    k 1556.597 73.115 47.498 ... 0.245  72  47   0.00633 .. 0.0103\n",
      "     id     band   flux   x_mean  y_mean ... theta  x0  y0    cutout [20,20]   \n",
      "                 electron                ...  rad                              \n",
      "----------- ---- -------- ------ ------- ... ----- --- --- --------------------\n",
      "jwst-81-168    v 1677.160 81.818 167.237 ... 1.067  81 168  1.2e-05 .. 3.75e-05\n",
      "jwst-81-168    k 5256.071 82.543 167.860 ... 1.067  81 168 3.52e-07 .. 5.39e-05\n",
      "jwst-81-168    r 3405.251 80.637 168.636 ... 1.067  81 168 2.71e-06 .. 2.86e-05\n",
      "jwst-81-168    b  841.712 81.361 167.236 ... 1.067  81 168 2.58e-09 .. 0.000124\n"
     ]
    }
   ],
   "source": [
    "for src in srcs_grouped.groups:\n",
    "    print(src)"
   ]
  },
  {
   "cell_type": "code",
   "execution_count": 29,
   "metadata": {
    "collapsed": false,
    "scrolled": true
   },
   "outputs": [
    {
     "name": "stderr",
     "output_type": "stream",
     "text": [
      "WARNING: Cannot aggregate column 'band' with type '<U1' [astropy.table.groups]\n",
      "WARNING: Cannot aggregate column 'cutout' with type 'float64' [astropy.table.groups]\n"
     ]
    },
    {
     "data": {
      "text/html": [
       "&lt;Table length=5&gt;\n",
       "<table id=\"table4598287552\" class=\"table-striped table-bordered table-condensed\">\n",
       "<thead><tr><th>id</th><th>flux</th><th>x_mean</th><th>y_mean</th><th>x_stddev</th><th>y_stddev</th><th>theta</th><th>x0</th><th>y0</th></tr></thead>\n",
       "<thead><tr><th></th><th>electron</th><th></th><th></th><th></th><th></th><th>rad</th><th></th><th></th></tr></thead>\n",
       "<thead><tr><th>str11</th><th>float64</th><th>float64</th><th>float64</th><th>float64</th><th>float64</th><th>float64</th><th>float64</th><th>float64</th></tr></thead>\n",
       "<tr><td>jwst-107-15</td><td>1829.981</td><td>107.140</td><td>15.248</td><td>2.574</td><td>4.760</td><td>5.518</td><td>107.0</td><td>15.0</td></tr>\n",
       "<tr><td>jwst-27-85</td><td>2881.944</td><td>26.829</td><td>85.345</td><td>4.012</td><td>4.518</td><td>5.621</td><td>27.0</td><td>85.0</td></tr>\n",
       "<tr><td>jwst-44-133</td><td>8015.731</td><td>42.936</td><td>131.882</td><td>3.282</td><td>4.986</td><td>0.534</td><td>44.0</td><td>133.0</td></tr>\n",
       "<tr><td>jwst-72-47</td><td>826.175</td><td>72.051</td><td>46.990</td><td>3.668</td><td>3.016</td><td>0.245</td><td>72.0</td><td>47.0</td></tr>\n",
       "<tr><td>jwst-81-168</td><td>2795.049</td><td>81.590</td><td>167.742</td><td>2.444</td><td>4.151</td><td>1.067</td><td>81.0</td><td>168.0</td></tr>\n",
       "</table>"
      ],
      "text/plain": [
       "<Table length=5>\n",
       "     id       flux    x_mean  y_mean x_stddev y_stddev  theta     x0      y0  \n",
       "            electron                                     rad                  \n",
       "   str11    float64  float64 float64 float64  float64  float64 float64 float64\n",
       "----------- -------- ------- ------- -------- -------- ------- ------- -------\n",
       "jwst-107-15 1829.981 107.140  15.248    2.574    4.760   5.518   107.0    15.0\n",
       " jwst-27-85 2881.944  26.829  85.345    4.012    4.518   5.621    27.0    85.0\n",
       "jwst-44-133 8015.731  42.936 131.882    3.282    4.986   0.534    44.0   133.0\n",
       " jwst-72-47  826.175  72.051  46.990    3.668    3.016   0.245    72.0    47.0\n",
       "jwst-81-168 2795.049  81.590 167.742    2.444    4.151   1.067    81.0   168.0"
      ]
     },
     "execution_count": 29,
     "metadata": {},
     "output_type": "execute_result"
    }
   ],
   "source": [
    "# Now let's make a new table where each row is the mean of all rows in the group\n",
    "\n",
    "mean_srcs = srcs_grouped.groups.aggregate(np.mean)\n",
    "mean_srcs"
   ]
  },
  {
   "cell_type": "code",
   "execution_count": 30,
   "metadata": {
    "collapsed": true
   },
   "outputs": [],
   "source": [
    "# We can define custom behavior depending on column type or even name\n",
    "\n",
    "def sources_mean(arr):\n",
    "    if arr.dtype.kind in ('S', 'U'):\n",
    "        out= ', '.join(arr)\n",
    "    elif arr.info.name == 'flux':\n",
    "        # Take the log mean\n",
    "        out = np.exp(np.mean(np.log(arr)))\n",
    "    else:\n",
    "        out = np.mean(arr, axis=0)\n",
    "\n",
    "    return out"
   ]
  },
  {
   "cell_type": "code",
   "execution_count": 31,
   "metadata": {
    "collapsed": false
   },
   "outputs": [
    {
     "data": {
      "text/html": [
       "&lt;Table length=5&gt;\n",
       "<table id=\"table4598216128\" class=\"table-striped table-bordered table-condensed\">\n",
       "<thead><tr><th>id</th><th>band</th><th>flux</th><th>x_mean</th><th>y_mean</th><th>x_stddev</th><th>y_stddev</th><th>theta</th><th>x0</th><th>y0</th><th>cutout [20,20]</th></tr></thead>\n",
       "<thead><tr><th></th><th></th><th>electron</th><th></th><th></th><th></th><th></th><th>rad</th><th></th><th></th><th></th></tr></thead>\n",
       "<thead><tr><th>str11</th><th>str10</th><th>float64</th><th>float64</th><th>float64</th><th>float64</th><th>float64</th><th>float64</th><th>float64</th><th>float64</th><th>float64</th></tr></thead>\n",
       "<tr><td>jwst-107-15</td><td>v, r, b, k</td><td>1403.422</td><td>107.140</td><td>15.248</td><td>2.574</td><td>4.760</td><td>5.518</td><td>107.0</td><td>15.0</td><td>0.213 .. 0.353</td></tr>\n",
       "<tr><td>jwst-27-85</td><td>v, b, k, u</td><td>1794.907</td><td>26.829</td><td>85.345</td><td>4.012</td><td>4.518</td><td>5.621</td><td>27.0</td><td>85.0</td><td>0.156 .. 0.319</td></tr>\n",
       "<tr><td>jwst-44-133</td><td>v, r, k</td><td>7360.309</td><td>42.936</td><td>131.882</td><td>3.282</td><td>4.986</td><td>0.534</td><td>44.0</td><td>133.0</td><td>0.0552 .. 0.0117</td></tr>\n",
       "<tr><td>jwst-72-47</td><td>b, v, r, k</td><td>611.296</td><td>72.051</td><td>46.990</td><td>3.668</td><td>3.016</td><td>0.245</td><td>72.0</td><td>47.0</td><td>0.00452 .. 0.00432</td></tr>\n",
       "<tr><td>jwst-81-168</td><td>v, k, r, b</td><td>2242.008</td><td>81.590</td><td>167.742</td><td>2.444</td><td>4.151</td><td>1.067</td><td>81.0</td><td>168.0</td><td>3.76e-06 .. 6.09e-05</td></tr>\n",
       "</table>"
      ],
      "text/plain": [
       "<Table length=5>\n",
       "     id        band      flux    x_mean ...    x0      y0      cutout [20,20]   \n",
       "                       electron         ...                                     \n",
       "   str11      str10    float64  float64 ... float64 float64       float64       \n",
       "----------- ---------- -------- ------- ... ------- ------- --------------------\n",
       "jwst-107-15 v, r, b, k 1403.422 107.140 ...   107.0    15.0       0.213 .. 0.353\n",
       " jwst-27-85 v, b, k, u 1794.907  26.829 ...    27.0    85.0       0.156 .. 0.319\n",
       "jwst-44-133    v, r, k 7360.309  42.936 ...    44.0   133.0     0.0552 .. 0.0117\n",
       " jwst-72-47 b, v, r, k  611.296  72.051 ...    72.0    47.0   0.00452 .. 0.00432\n",
       "jwst-81-168 v, k, r, b 2242.008  81.590 ...    81.0   168.0 3.76e-06 .. 6.09e-05"
      ]
     },
     "execution_count": 31,
     "metadata": {},
     "output_type": "execute_result"
    }
   ],
   "source": [
    "mean_srcs = srcs_grouped.groups.aggregate(sources_mean)\n",
    "mean_srcs"
   ]
  },
  {
   "cell_type": "code",
   "execution_count": 32,
   "metadata": {
    "collapsed": false
   },
   "outputs": [
    {
     "data": {
      "text/plain": [
       "<matplotlib.image.AxesImage at 0x1122f0668>"
      ]
     },
     "execution_count": 32,
     "metadata": {},
     "output_type": "execute_result"
    },
    {
     "data": {
      "image/png": "[encoded data removed]",
      "text/plain": [
       "<matplotlib.figure.Figure at 0x112231be0>"
      ]
     },
     "metadata": {},
     "output_type": "display_data"
    }
   ],
   "source": [
    "plt.imshow(mean_srcs['cutout'][3], interpolation='nearest')"
   ]
  },
  {
   "cell_type": "markdown",
   "metadata": {},
   "source": [
    "### Digression: Binning\n",
    "\n",
    "A common tool in analysis is to **bin** a table based on some reference value. Examples:\n",
    "\n",
    "- Photometry of a binary star in several bands taken over a span of time which should be binned by orbital phase.\n",
    "- Reducing the sampling density for a table by combining 100 rows at a time.\n",
    "- Unevenly sampled historical data which should binned to four points per year.\n",
    "\n",
    "The common theme in all these cases is to convert the key value array into a \n",
    "new `float`- or `int`-valued array whose values are identical for rows in the same output bin. As an example, generate a fake light curve:\n"
   ]
  },
  {
   "cell_type": "code",
   "execution_count": 33,
   "metadata": {
    "collapsed": true
   },
   "outputs": [],
   "source": [
    "year = np.linspace(2000.0, 2010.0, 200)  # 200 observations over 10 years\n",
    "period = 1.811\n",
    "y0 = 2005.2\n",
    "mag = 14.0 + 1.2 * np.sin(2 * np.pi * (year - y0) / period) + np.random.normal(scale=0.1, size=200)\n",
    "phase = ((year - y0) / period) % 1.0\n",
    "dat = Table([year, phase, mag], names=['year', 'phase', 'mag'])"
   ]
  },
  {
   "cell_type": "code",
   "execution_count": 34,
   "metadata": {
    "collapsed": false
   },
   "outputs": [
    {
     "data": {
      "image/png": "[encoded data removed]",
      "text/plain": [
       "<matplotlib.figure.Figure at 0x1120a5208>"
      ]
     },
     "metadata": {},
     "output_type": "display_data"
    }
   ],
   "source": [
    "plt.figure(figsize=(8, 2))\n",
    "plt.subplot(1, 2, 1)\n",
    "plt.plot(dat['year'], dat['mag'], '.')\n",
    "plt.xlabel('year')\n",
    "plt.subplot(1, 2, 2)\n",
    "plt.xlabel('phase')\n",
    "plt.plot(dat['phase'], dat['mag'], '.');"
   ]
  },
  {
   "cell_type": "code",
   "execution_count": 35,
   "metadata": {
    "collapsed": false
   },
   "outputs": [
    {
     "data": {
      "text/plain": [
       "array([ 1.,  1.,  1.,  2.,  2.,  2.,  2.,  3.,  3.,  3.,  4.,  4.,  4.,\n",
       "        4.,  5.,  5.,  5.,  6.,  6.,  6.,  6.,  7.,  7.,  7.,  7.,  8.,\n",
       "        8.,  8.,  9.,  9.,  9.,  9.,  0.,  0.,  0.,  0.,  1.,  1.,  1.,\n",
       "        2.,  2.,  2.,  2.,  3.,  3.,  3.,  4.,  4.,  4.,  4.])"
      ]
     },
     "execution_count": 35,
     "metadata": {},
     "output_type": "execute_result"
    }
   ],
   "source": [
    "phase_bin = np.trunc(phase / 0.1)\n",
    "phase_bin[:50]"
   ]
  },
  {
   "cell_type": "code",
   "execution_count": 36,
   "metadata": {
    "collapsed": true
   },
   "outputs": [],
   "source": [
    "dat_grouped = dat.group_by(phase_bin)\n",
    "dat_mean = dat_grouped.groups.aggregate(np.mean)\n",
    "dat_std = dat_grouped.groups.aggregate(np.std)"
   ]
  },
  {
   "cell_type": "code",
   "execution_count": 37,
   "metadata": {
    "collapsed": false
   },
   "outputs": [
    {
     "data": {
      "image/png": "[encoded data removed]",
      "text/plain": [
       "<matplotlib.figure.Figure at 0x103074320>"
      ]
     },
     "metadata": {},
     "output_type": "display_data"
    }
   ],
   "source": [
    "plt.figure(figsize=(4, 2))\n",
    "plt.xlabel('phase')\n",
    "plt.errorbar(x=dat_mean['phase'], xerr=0.05, y=dat_mean['mag'], yerr=dat_std['mag'], fmt='.');"
   ]
  },
  {
   "cell_type": "markdown",
   "metadata": {},
   "source": [
    "## Astropy integration: quantities, units, mixin columns, QTable and all that\n",
    "\n",
    "A major feature of astropy `Table` is integrated support for:\n",
    "\n",
    "- ``Quantity`` columns that have meaningful units\n",
    "- ``Time`` and ``Coordinate`` columns\n",
    "- Other \"mixin columns\"\n",
    "\n",
    "Mixin columns are object types that adhere to the mixin protocol and are\n",
    "stored and manipulated **natively** in the table."
   ]
  },
  {
   "cell_type": "markdown",
   "metadata": {},
   "source": [
    "### Example: store a Time object in a table"
   ]
  },
  {
   "cell_type": "code",
   "execution_count": 38,
   "metadata": {
    "collapsed": false
   },
   "outputs": [
    {
     "data": {
      "text/html": [
       "&lt;Table length=2&gt;\n",
       "<table id=\"table4599675032\" class=\"table-striped table-bordered table-condensed\">\n",
       "<thead><tr><th>index</th><th>time</th></tr></thead>\n",
       "<thead><tr><th>int64</th><th>object</th></tr></thead>\n",
       "<tr><td>1</td><td>2001-01-02T12:34:56.000</td></tr>\n",
       "<tr><td>2</td><td>2001-02-03T00:01:02.000</td></tr>\n",
       "</table>"
      ],
      "text/plain": [
       "<Table length=2>\n",
       "index           time         \n",
       "int64          object        \n",
       "----- -----------------------\n",
       "    1 2001-01-02T12:34:56.000\n",
       "    2 2001-02-03T00:01:02.000"
      ]
     },
     "execution_count": 38,
     "metadata": {},
     "output_type": "execute_result"
    }
   ],
   "source": [
    "t = Table()\n",
    "t['index'] = [1, 2]\n",
    "t['time'] = Time(['2001-01-02T12:34:56', '2001-02-03T00:01:02'])\n",
    "t"
   ]
  },
  {
   "cell_type": "code",
   "execution_count": 39,
   "metadata": {
    "collapsed": false
   },
   "outputs": [
    {
     "data": {
      "text/plain": [
       "<Time object: scale='utc' format='isot' value=['2001-01-02T12:34:56.000' '2001-02-03T00:01:02.000']>"
      ]
     },
     "execution_count": 39,
     "metadata": {},
     "output_type": "execute_result"
    }
   ],
   "source": [
    "# The time column is a bona-fide Time object\n",
    "t['time']"
   ]
  },
  {
   "cell_type": "code",
   "execution_count": 40,
   "metadata": {
    "collapsed": false
   },
   "outputs": [
    {
     "data": {
      "text/plain": [
       "array([ 51911.52425926,  51943.00071759])"
      ]
     },
     "execution_count": 40,
     "metadata": {},
     "output_type": "execute_result"
    }
   ],
   "source": [
    "# In case you don't believe me\n",
    "t['time'].mjd"
   ]
  },
  {
   "cell_type": "markdown",
   "metadata": {},
   "source": [
    "### Quantity: doesn't Table already support units?\n",
    "\n",
    "We saw in the `sources` table that we can define unit.  Aren't we good to go?  **No**"
   ]
  },
  {
   "cell_type": "code",
   "execution_count": 41,
   "metadata": {
    "collapsed": false
   },
   "outputs": [
    {
     "data": {
      "text/plain": [
       "astropy.table.column.Column"
      ]
     },
     "execution_count": 41,
     "metadata": {},
     "output_type": "execute_result"
    }
   ],
   "source": [
    "type(sources['theta'])"
   ]
  },
  {
   "cell_type": "code",
   "execution_count": 42,
   "metadata": {
    "collapsed": false
   },
   "outputs": [
    {
     "data": {
      "text/latex": [
       "$\\mathrm{rad}$"
      ],
      "text/plain": [
       "Unit(\"rad\")"
      ]
     },
     "execution_count": 42,
     "metadata": {},
     "output_type": "execute_result"
    }
   ],
   "source": [
    "sources['theta'].unit"
   ]
  },
  {
   "cell_type": "markdown",
   "metadata": {},
   "source": [
    "**Normal table `Column` class is just carrying `unit` as an attribute.**\n",
    "\n",
    "It is no more special than `description` or `format`:"
   ]
  },
  {
   "cell_type": "code",
   "execution_count": 43,
   "metadata": {
    "collapsed": false,
    "scrolled": true
   },
   "outputs": [
    {
     "data": {
      "text/latex": [
       "$\\mathrm{rad}$"
      ],
      "text/plain": [
       "Unit(\"rad\")"
      ]
     },
     "execution_count": 43,
     "metadata": {},
     "output_type": "execute_result"
    }
   ],
   "source": [
    "t2 = sources['theta'] ** 2\n",
    "t2.unit"
   ]
  },
  {
   "cell_type": "markdown",
   "metadata": {},
   "source": [
    "### QTable to the rescue\n",
    "\n",
    "Astropy has a `QTable` class for tables that use `Quantity` objects for columns with units.\n",
    "\n",
    "See the [Quantity and QTable](http://docs.astropy.org/en/stable/table/mixin_columns.html#quantity-and-qtable) section for more details."
   ]
  },
  {
   "cell_type": "code",
   "execution_count": 44,
   "metadata": {
    "collapsed": false
   },
   "outputs": [
    {
     "data": {
      "text/html": [
       "&lt;QTable length=5&gt;\n",
       "<table id=\"table4598426536\" class=\"table-striped table-bordered table-condensed\">\n",
       "<thead><tr><th>id</th><th>flux</th><th>x_mean</th><th>y_mean</th><th>x_stddev</th><th>y_stddev</th><th>theta</th><th>x0</th><th>y0</th><th>cutout [20,20]</th></tr></thead>\n",
       "<thead><tr><th></th><th>electron</th><th></th><th></th><th></th><th></th><th>rad</th><th></th><th></th><th></th></tr></thead>\n",
       "<thead><tr><th>str11</th><th>float64</th><th>float64</th><th>float64</th><th>float64</th><th>float64</th><th>float64</th><th>int64</th><th>int64</th><th>float64</th></tr></thead>\n",
       "<tr><td>jwst-27-85</td><td>4753.198 electron</td><td>26.621</td><td>85.455</td><td>4.011</td><td>4.402</td><td>5.621 rad</td><td>27</td><td>85</td><td>0.157 .. 2.92</td></tr>\n",
       "<tr><td>jwst-44-133</td><td>7482.920 electron</td><td>43.527</td><td>133.340</td><td>3.252</td><td>4.905</td><td>0.534 rad</td><td>44</td><td>133</td><td>0.0247 .. 0.0656</td></tr>\n",
       "<tr><td>jwst-72-47</td><td>1001.029 electron</td><td>72.201</td><td>46.801</td><td>3.676</td><td>2.940</td><td>0.245 rad</td><td>72</td><td>47</td><td>0.00146 .. 0.0738</td></tr>\n",
       "<tr><td>jwst-81-168</td><td>3720.993 electron</td><td>81.418</td><td>168.061</td><td>2.421</td><td>4.077</td><td>1.067 rad</td><td>81</td><td>168</td><td>5.89e-06 .. 0.0021</td></tr>\n",
       "<tr><td>jwst-107-15</td><td>2320.803 electron</td><td>106.987</td><td>14.930</td><td>2.594</td><td>4.629</td><td>5.518 rad</td><td>107</td><td>15</td><td>0.269 .. 1.5</td></tr>\n",
       "</table>"
      ],
      "text/plain": [
       "<QTable length=5>\n",
       "     id            flux        x_mean  y_mean ...   x0    y0    cutout [20,20]  \n",
       "                 electron                     ...                               \n",
       "   str11         float64      float64 float64 ... int64 int64      float64      \n",
       "----------- ----------------- ------- ------- ... ----- ----- ------------------\n",
       " jwst-27-85 4753.198 electron  26.621  85.455 ...    27    85      0.157 .. 2.92\n",
       "jwst-44-133 7482.920 electron  43.527 133.340 ...    44   133   0.0247 .. 0.0656\n",
       " jwst-72-47 1001.029 electron  72.201  46.801 ...    72    47  0.00146 .. 0.0738\n",
       "jwst-81-168 3720.993 electron  81.418 168.061 ...    81   168 5.89e-06 .. 0.0021\n",
       "jwst-107-15 2320.803 electron 106.987  14.930 ...   107    15       0.269 .. 1.5"
      ]
     },
     "execution_count": 44,
     "metadata": {},
     "output_type": "execute_result"
    }
   ],
   "source": [
    "# Let's make `flux` and `theta` be real Quantity objects!\n",
    "qsources = QTable(sources)\n",
    "qsources"
   ]
  },
  {
   "cell_type": "markdown",
   "metadata": {},
   "source": [
    "*The repeated presence of `electron` and `rad` in each Quantity value is a problem that is fixed in 1.3-dev*."
   ]
  },
  {
   "cell_type": "code",
   "execution_count": 45,
   "metadata": {
    "collapsed": false
   },
   "outputs": [
    {
     "data": {
      "text/plain": [
       "astropy.units.quantity.Quantity"
      ]
     },
     "execution_count": 45,
     "metadata": {},
     "output_type": "execute_result"
    }
   ],
   "source": [
    "type(qsources['theta'])"
   ]
  },
  {
   "cell_type": "code",
   "execution_count": 46,
   "metadata": {
    "collapsed": false
   },
   "outputs": [
    {
     "data": {
      "text/latex": [
       "$\\mathrm{rad^{2}}$"
      ],
      "text/plain": [
       "Unit(\"rad2\")"
      ]
     },
     "execution_count": 46,
     "metadata": {},
     "output_type": "execute_result"
    }
   ],
   "source": [
    "qt2 = qsources['theta'] ** 2\n",
    "qt2.unit"
   ]
  },
  {
   "cell_type": "markdown",
   "metadata": {},
   "source": [
    "### Summary of `Table` and `QTable`\n",
    "\n",
    "In short, `Table` and `QTable` are **identical in every way except for handling columns with units**:\n",
    "- `Table` uses `Column` for any columns with units (with informational-only unit attribute)\n",
    "- `QTable` uses `Quantity` for any columns with units (with meaningful unit attribute)\n",
    "\n",
    "Use `QTable` in general if you are fully on-board with using `Quantity` and do not deal with much legacy code.\n",
    "\n",
    "Use `Table` if you are using code that is not `Quantity`-aware, OR if you need full missing data support.  `Quantity` does not support missing (masked) data."
   ]
  },
  {
   "cell_type": "markdown",
   "metadata": {},
   "source": [
    "### Digression: storing a Pandas Series within Astropy Table"
   ]
  },
  {
   "cell_type": "code",
   "execution_count": 47,
   "metadata": {
    "collapsed": false
   },
   "outputs": [],
   "source": [
    "from astropy.utils.data_info import ParentDtypeInfo\n",
    "import pandas as pd\n",
    "\n",
    "class SeriesMixin(pd.Series):\n",
    "    info = ParentDtypeInfo()"
   ]
  },
  {
   "cell_type": "code",
   "execution_count": 48,
   "metadata": {
    "collapsed": false,
    "scrolled": true
   },
   "outputs": [],
   "source": [
    "s = SeriesMixin((np.arange(5)-2)**2)\n",
    "pt = Table([s], names=['s'])"
   ]
  },
  {
   "cell_type": "code",
   "execution_count": 49,
   "metadata": {
    "collapsed": false
   },
   "outputs": [
    {
     "data": {
      "text/plain": [
       "name = s\n",
       "dtype = int64\n",
       "class = SeriesMixin\n",
       "n_bad = 1\n",
       "length = 5"
      ]
     },
     "execution_count": 49,
     "metadata": {},
     "output_type": "execute_result"
    }
   ],
   "source": [
    "pt['s'].info"
   ]
  },
  {
   "cell_type": "code",
   "execution_count": 50,
   "metadata": {
    "collapsed": false
   },
   "outputs": [
    {
     "data": {
      "text/plain": [
       "True"
      ]
     },
     "execution_count": 50,
     "metadata": {},
     "output_type": "execute_result"
    }
   ],
   "source": [
    "isinstance(pt['s'], pd.Series)"
   ]
  },
  {
   "cell_type": "code",
   "execution_count": 51,
   "metadata": {
    "collapsed": false
   },
   "outputs": [
    {
     "data": {
      "image/png": "[encoded data removed]",
      "text/plain": [
       "<matplotlib.figure.Figure at 0x112166eb8>"
      ]
     },
     "metadata": {},
     "output_type": "display_data"
    }
   ],
   "source": [
    "pt['s'].plot();"
   ]
  }
 ],
 "metadata": {
  "anaconda-cloud": {},
  "kernelspec": {
   "display_name": "Python [conda env:py35]",
   "language": "python",
   "name": "conda-env-py35-py"
  },
  "language_info": {
   "codemirror_mode": {
    "name": "ipython",
    "version": 3
   },
   "file_extension": ".py",
   "mimetype": "text/x-python",
   "name": "python",
   "nbconvert_exporter": "python",
   "pygments_lexer": "ipython3",
   "version": "3.5.1"
  },
  "nbpresent": {
   "slides": {
    "006218c8-d675-4e4b-a99e-cb0e8fb8d7c2": {
     "id": "006218c8-d675-4e4b-a99e-cb0e8fb8d7c2",
     "prev": "11f29a95-ee54-4793-8d1f-84d3ce872a7f",
     "regions": {
      "3ed1e4c9-2ede-43e5-8873-5930e886b31a": {
       "attrs": {
        "height": 0.8,
        "width": 0.8,
        "x": 0.1,
        "y": 0.1
       },
       "content": {
        "cell": "807044a7-e521-41ae-83f9-9cfd677b2bd7",
        "part": "whole"
       },
       "id": "3ed1e4c9-2ede-43e5-8873-5930e886b31a"
      }
     },
     "theme": null
    },
    "03d3820a-3f6a-4d4b-be69-c0b5fb544e7b": {
     "id": "03d3820a-3f6a-4d4b-be69-c0b5fb544e7b",
     "prev": "186e4b12-85e3-4fd5-b597-b27cd51c9ef7",
     "regions": {
      "0a2bf00a-a39c-405e-aed9-775a46f7a26a": {
       "attrs": {
        "height": 1,
        "width": 1,
        "x": 0,
        "y": 0
       },
       "id": "0a2bf00a-a39c-405e-aed9-775a46f7a26a"
      }
     }
    },
    "0566cf70-0374-4950-ab82-066a7c8656e6": {
     "id": "0566cf70-0374-4950-ab82-066a7c8656e6",
     "prev": "e5af1c01-e690-473c-bb3c-b0b1142718cd",
     "regions": {
      "0a8ef5d1-fb31-41dd-821a-8b1045a734d2": {
       "attrs": {
        "height": 0.8,
        "width": 0.8,
        "x": 0.1,
        "y": 0.1
       },
       "content": {
        "cell": "0a045951-b6d5-4bec-aa96-e0d5299bac6d",
        "part": "whole"
       },
       "id": "0a8ef5d1-fb31-41dd-821a-8b1045a734d2"
      }
     }
    },
    "05a74bd6-3ac2-4d11-81ea-73f7b8c0d7ed": {
     "id": "05a74bd6-3ac2-4d11-81ea-73f7b8c0d7ed",
     "prev": "a2216fd9-45a4-4c9b-9e6a-56bb973c758a",
     "regions": {
      "a269671e-3f44-437f-b12b-54768b74833b": {
       "attrs": {
        "height": 0.8,
        "width": 0.8,
        "x": 0.1,
        "y": 0.1
       },
       "content": {
        "cell": "cf86bd55-f019-4e2b-86e7-5e7834710387",
        "part": "whole"
       },
       "id": "a269671e-3f44-437f-b12b-54768b74833b"
      }
     }
    },
    "068e70ee-d503-4b2d-b077-424067587319": {
     "id": "068e70ee-d503-4b2d-b077-424067587319",
     "prev": "36e14125-fae5-4899-ba1e-e37f7f191bec",
     "regions": {
      "2e27e990-ce44-4926-a230-955704d34328": {
       "attrs": {
        "height": 0.8,
        "width": 0.8,
        "x": 0.1,
        "y": 0.1
       },
       "content": {
        "cell": "c0e53661-45e2-4617-b90b-60507fd4705f",
        "part": "whole"
       },
       "id": "2e27e990-ce44-4926-a230-955704d34328"
      }
     }
    },
    "0919cbae-a625-4b30-8468-c41d6166faea": {
     "id": "0919cbae-a625-4b30-8468-c41d6166faea",
     "prev": "2db817df-8e6b-472a-a3af-0685acf715d4",
     "regions": {
      "9ee9443a-01b7-4e27-b976-e4c72359d9ba": {
       "attrs": {
        "height": 0.8,
        "width": 0.8,
        "x": 0.1,
        "y": 0.1
       },
       "content": {
        "cell": "37e128e3-cafc-447e-9585-aefef802cbba",
        "part": "whole"
       },
       "id": "9ee9443a-01b7-4e27-b976-e4c72359d9ba"
      }
     }
    },
    "0ec807ff-8e43-41f1-aa79-a3b4abd49c4d": {
     "id": "0ec807ff-8e43-41f1-aa79-a3b4abd49c4d",
     "prev": "d6872030-1f24-4730-b903-675db5086932",
     "regions": {
      "afeb5fd9-c243-4596-87a6-6ff07dc3bd36": {
       "attrs": {
        "height": 0.8,
        "width": 0.8,
        "x": 0.1,
        "y": 0.1
       },
       "content": {
        "cell": "7295f88f-b115-43e9-a227-aa9b0437c6f4",
        "part": "whole"
       },
       "id": "afeb5fd9-c243-4596-87a6-6ff07dc3bd36"
      }
     }
    },
    "11f29a95-ee54-4793-8d1f-84d3ce872a7f": {
     "id": "11f29a95-ee54-4793-8d1f-84d3ce872a7f",
     "prev": "77cd8417-77c3-4a85-87f7-edd42edc53ff",
     "regions": {
      "0912dc98-5670-4afd-ba07-09434ad4d383": {
       "attrs": {
        "height": 0.8,
        "width": 0.8,
        "x": 0.1,
        "y": 0.1
       },
       "content": {
        "cell": "f42e3d62-29c9-40e7-a26e-f698183458c1",
        "part": "whole"
       },
       "id": "0912dc98-5670-4afd-ba07-09434ad4d383"
      }
     }
    },
    "168d2357-e658-4ab3-8bf1-097eee69ac9f": {
     "id": "168d2357-e658-4ab3-8bf1-097eee69ac9f",
     "prev": "f36c6038-bdb5-4bfd-90dc-1214dad1f704",
     "regions": {
      "66b7ee63-df1f-458f-a5d6-4afd04afe744": {
       "attrs": {
        "height": 0.8,
        "width": 0.8,
        "x": 0.1,
        "y": 0.1
       },
       "content": {
        "cell": "86a4c777-3dfb-430f-85f6-413246b06e7c",
        "part": "whole"
       },
       "id": "66b7ee63-df1f-458f-a5d6-4afd04afe744"
      }
     }
    },
    "186e4b12-85e3-4fd5-b597-b27cd51c9ef7": {
     "id": "186e4b12-85e3-4fd5-b597-b27cd51c9ef7",
     "prev": null,
     "regions": {
      "64c49627-cdda-4c3d-9557-0a7e64fa0f00": {
       "attrs": {
        "height": 0.8,
        "width": 0.8,
        "x": 0.1,
        "y": 0.1
       },
       "content": {
        "cell": "04198394-491c-47d2-a46d-9cb4dd90f9a2",
        "part": "whole"
       },
       "id": "64c49627-cdda-4c3d-9557-0a7e64fa0f00"
      }
     }
    },
    "1ae120d8-2429-4413-97f7-c4d81906c10f": {
     "id": "1ae120d8-2429-4413-97f7-c4d81906c10f",
     "prev": "8de33c43-c045-4bd4-a7e8-50f0dd462db5",
     "regions": {
      "cc64b9a9-190a-4663-a4d8-5f4c302077f6": {
       "attrs": {
        "height": 0.8,
        "width": 0.8,
        "x": 0.1,
        "y": 0.1
       },
       "content": {
        "cell": "7ac9c359-f208-43de-ba9a-576b0fe57260",
        "part": "whole"
       },
       "id": "cc64b9a9-190a-4663-a4d8-5f4c302077f6"
      }
     }
    },
    "1b269192-3214-472c-a176-30f9c6fdbe3a": {
     "id": "1b269192-3214-472c-a176-30f9c6fdbe3a",
     "prev": "0566cf70-0374-4950-ab82-066a7c8656e6",
     "regions": {
      "ab902745-8b7b-4466-8555-229c30776b7a": {
       "attrs": {
        "height": 0.8,
        "width": 0.8,
        "x": 0.1,
        "y": 0.1
       },
       "content": {
        "cell": "1e5e72ea-feb7-4fa3-8fd0-602d9a83d379",
        "part": "whole"
       },
       "id": "ab902745-8b7b-4466-8555-229c30776b7a"
      }
     }
    },
    "1be62c5e-20fe-4db9-b6b1-d0671a896a06": {
     "id": "1be62c5e-20fe-4db9-b6b1-d0671a896a06",
     "prev": "f01fdffd-6e1d-47ca-a21d-75961cb3dd0a",
     "regions": {
      "7813fa55-ea04-448a-9356-5ac4476a7d13": {
       "attrs": {
        "height": 0.8,
        "width": 0.8,
        "x": 0.1,
        "y": 0.1
       },
       "content": {
        "cell": "22865d0f-c79e-4a5c-b195-ad238bd5cef7",
        "part": "whole"
       },
       "id": "7813fa55-ea04-448a-9356-5ac4476a7d13"
      }
     }
    },
    "245e5d48-8114-49a1-9b35-b8be9727d506": {
     "id": "245e5d48-8114-49a1-9b35-b8be9727d506",
     "prev": "d24a3bde-2930-4323-8190-b1dff10e27e0",
     "regions": {
      "1a5b533f-5198-4e15-806c-a15957b4bd48": {
       "attrs": {
        "height": 0.8,
        "width": 0.8,
        "x": 0.1,
        "y": 0.1
       },
       "content": {
        "cell": "239899b4-00fa-4529-b559-c7614b5a9473",
        "part": "whole"
       },
       "id": "1a5b533f-5198-4e15-806c-a15957b4bd48"
      }
     }
    },
    "2db817df-8e6b-472a-a3af-0685acf715d4": {
     "id": "2db817df-8e6b-472a-a3af-0685acf715d4",
     "prev": "9be304bc-2352-4aac-b1c9-905128785595",
     "regions": {
      "20c242bf-c693-45ff-80e6-5dd0a0c724c2": {
       "attrs": {
        "height": 0.8,
        "width": 0.8,
        "x": 0.1,
        "y": 0.1
       },
       "content": {
        "cell": "8c1e8ff4-ebd6-4f76-97af-9362a1598431",
        "part": "whole"
       },
       "id": "20c242bf-c693-45ff-80e6-5dd0a0c724c2"
      }
     }
    },
    "2f36918e-8d62-4993-8419-65899291c79d": {
     "id": "2f36918e-8d62-4993-8419-65899291c79d",
     "prev": "245e5d48-8114-49a1-9b35-b8be9727d506",
     "regions": {
      "e6d569c1-036b-4e74-a8ff-7cb65f0b99ec": {
       "attrs": {
        "height": 0.8,
        "width": 0.8,
        "x": 0.1,
        "y": 0.1
       },
       "content": {
        "cell": "c0319310-dc3b-4e3c-8378-fd829e9b3fd1",
        "part": "whole"
       },
       "id": "e6d569c1-036b-4e74-a8ff-7cb65f0b99ec"
      }
     }
    },
    "314ad039-23eb-4722-ba62-2ba8c95a78f3": {
     "id": "314ad039-23eb-4722-ba62-2ba8c95a78f3",
     "prev": "1b269192-3214-472c-a176-30f9c6fdbe3a",
     "regions": {
      "2605dd2a-34bf-4fbf-9d96-128b03d231bd": {
       "attrs": {
        "height": 0.8,
        "width": 0.8,
        "x": 0.1,
        "y": 0.1
       },
       "content": {
        "cell": "aab7225f-2740-4f09-a168-186ff6747116",
        "part": "whole"
       },
       "id": "2605dd2a-34bf-4fbf-9d96-128b03d231bd"
      }
     }
    },
    "36e14125-fae5-4899-ba1e-e37f7f191bec": {
     "id": "36e14125-fae5-4899-ba1e-e37f7f191bec",
     "prev": "e0499d89-5072-48d3-b328-92cf412a23c2",
     "regions": {
      "36874138-836f-424a-ac3e-48825c1cd872": {
       "attrs": {
        "height": 0.8,
        "width": 0.8,
        "x": 0.1,
        "y": 0.1
       },
       "content": {
        "cell": "298820ee-95c1-41e1-a31d-8d3001b9af97",
        "part": "whole"
       },
       "id": "36874138-836f-424a-ac3e-48825c1cd872"
      }
     }
    },
    "44612a5c-8267-45fa-aea0-aa55f1d48230": {
     "id": "44612a5c-8267-45fa-aea0-aa55f1d48230",
     "prev": "068e70ee-d503-4b2d-b077-424067587319",
     "regions": {
      "4d44bdc9-2e13-41f4-9c10-50037ec17d18": {
       "attrs": {
        "height": 0.8,
        "width": 0.8,
        "x": 0.1,
        "y": 0.1
       },
       "content": {
        "cell": "292daa5b-1a71-43e1-988b-04814ea1f4b9",
        "part": "whole"
       },
       "id": "4d44bdc9-2e13-41f4-9c10-50037ec17d18"
      }
     }
    },
    "47e8d8d3-706d-4431-80d0-24aee0fed5ac": {
     "id": "47e8d8d3-706d-4431-80d0-24aee0fed5ac",
     "prev": "0919cbae-a625-4b30-8468-c41d6166faea",
     "regions": {
      "39b0b17a-8024-4687-9527-c950b19e17e3": {
       "attrs": {
        "height": 0.8,
        "width": 0.8,
        "x": 0.1,
        "y": 0.1
       },
       "content": {
        "cell": "e239a41d-288a-4bd8-b52f-c5f39a9ec860",
        "part": "whole"
       },
       "id": "39b0b17a-8024-4687-9527-c950b19e17e3"
      }
     }
    },
    "5a75c0d1-ef43-4edc-bb58-f0443617d5c5": {
     "id": "5a75c0d1-ef43-4edc-bb58-f0443617d5c5",
     "prev": "314ad039-23eb-4722-ba62-2ba8c95a78f3",
     "regions": {
      "4eef3e31-2e9a-43ef-885b-d799e2b63bf2": {
       "attrs": {
        "height": 0.8,
        "width": 0.8,
        "x": 0.1,
        "y": 0.1
       },
       "content": {
        "cell": "93ab3b34-1c9b-4692-a4d8-cc0dfe6d2542",
        "part": "whole"
       },
       "id": "4eef3e31-2e9a-43ef-885b-d799e2b63bf2"
      }
     }
    },
    "77cd8417-77c3-4a85-87f7-edd42edc53ff": {
     "id": "77cd8417-77c3-4a85-87f7-edd42edc53ff",
     "prev": "9f63031f-b317-43bb-abc1-e7c37490cc7d",
     "regions": {
      "4ebaaac6-20dc-4f04-a26a-fea166a52faf": {
       "attrs": {
        "height": 0.8,
        "width": 0.8,
        "x": 0.1,
        "y": 0.1
       },
       "content": {
        "cell": "aa357512-ca20-45d2-9c54-0add8be17ff7",
        "part": "whole"
       },
       "id": "4ebaaac6-20dc-4f04-a26a-fea166a52faf"
      }
     }
    },
    "8836c65c-e9da-451f-a467-687df820cbd5": {
     "id": "8836c65c-e9da-451f-a467-687df820cbd5",
     "prev": "95a8860d-a5e8-4268-a9c4-6518ec825c54",
     "regions": {
      "2981d663-159b-453f-8ec0-eecbd307c41d": {
       "attrs": {
        "height": 0.8,
        "width": 0.8,
        "x": 0.1,
        "y": 0.1
       },
       "content": {
        "cell": "076b7e13-1284-431b-b513-1d411b89b90f",
        "part": "whole"
       },
       "id": "2981d663-159b-453f-8ec0-eecbd307c41d"
      }
     }
    },
    "8de33c43-c045-4bd4-a7e8-50f0dd462db5": {
     "id": "8de33c43-c045-4bd4-a7e8-50f0dd462db5",
     "prev": "05a74bd6-3ac2-4d11-81ea-73f7b8c0d7ed",
     "regions": {
      "92ad6836-4699-4f75-b77f-ab4ee881c1b6": {
       "attrs": {
        "height": 0.8,
        "width": 0.8,
        "x": 0.1,
        "y": 0.1
       },
       "content": {
        "cell": "95bd052a-2454-4f32-b549-4243b22fc1ed",
        "part": "whole"
       },
       "id": "92ad6836-4699-4f75-b77f-ab4ee881c1b6"
      }
     }
    },
    "94737ead-c517-49ec-84a1-c344caaea1bb": {
     "id": "94737ead-c517-49ec-84a1-c344caaea1bb",
     "prev": "006218c8-d675-4e4b-a99e-cb0e8fb8d7c2",
     "regions": {
      "b3e8c972-f427-41aa-8af5-ac425fdf3b08": {
       "attrs": {
        "height": 0.8,
        "width": 0.8,
        "x": 0.1,
        "y": 0.1
       },
       "content": {
        "cell": "3c3ba47a-841e-4638-b91e-452cd02f111a",
        "part": "whole"
       },
       "id": "b3e8c972-f427-41aa-8af5-ac425fdf3b08"
      }
     }
    },
    "94880567-0ace-4fda-82f8-5d881b23b1ab": {
     "id": "94880567-0ace-4fda-82f8-5d881b23b1ab",
     "prev": "5a75c0d1-ef43-4edc-bb58-f0443617d5c5",
     "regions": {
      "c50fbdb8-df9c-4943-bb70-9b7e26640dcc": {
       "attrs": {
        "height": 0.8,
        "width": 0.8,
        "x": 0.1,
        "y": 0.1
       },
       "content": {
        "cell": "9b021496-335c-4a77-9e28-bd5452fa71fd",
        "part": "whole"
       },
       "id": "c50fbdb8-df9c-4943-bb70-9b7e26640dcc"
      }
     }
    },
    "95a8860d-a5e8-4268-a9c4-6518ec825c54": {
     "id": "95a8860d-a5e8-4268-a9c4-6518ec825c54",
     "prev": "f112823d-cd80-4ca3-b8f9-330c93ef979c",
     "regions": {
      "5c30e809-66a3-4c66-9d15-96d7b779b146": {
       "attrs": {
        "height": 0.8,
        "width": 0.8,
        "x": 0.1,
        "y": 0.1
       },
       "content": {
        "cell": "8a920b74-02b4-4fa7-8018-28b0382ee02c",
        "part": "whole"
       },
       "id": "5c30e809-66a3-4c66-9d15-96d7b779b146"
      }
     }
    },
    "9be304bc-2352-4aac-b1c9-905128785595": {
     "id": "9be304bc-2352-4aac-b1c9-905128785595",
     "prev": "1be62c5e-20fe-4db9-b6b1-d0671a896a06",
     "regions": {
      "685998f3-6a66-424f-9e2c-e267320a8fe5": {
       "attrs": {
        "height": 0.8,
        "width": 0.8,
        "x": 0.1,
        "y": 0.1
       },
       "content": {
        "cell": "4a6287e7-dfc4-465d-9ae4-7d656abc6402",
        "part": "whole"
       },
       "id": "685998f3-6a66-424f-9e2c-e267320a8fe5"
      }
     }
    },
    "9f63031f-b317-43bb-abc1-e7c37490cc7d": {
     "id": "9f63031f-b317-43bb-abc1-e7c37490cc7d",
     "prev": "0ec807ff-8e43-41f1-aa79-a3b4abd49c4d",
     "regions": {
      "3c64c528-3f34-4ff4-9ff5-9b5144f04c90": {
       "attrs": {
        "height": 0.8,
        "width": 0.8,
        "x": 0.1,
        "y": 0.1
       },
       "content": {
        "cell": "1fc15879-88c7-4d4d-b99b-ba51bb11de18",
        "part": "whole"
       },
       "id": "3c64c528-3f34-4ff4-9ff5-9b5144f04c90"
      }
     }
    },
    "a2216fd9-45a4-4c9b-9e6a-56bb973c758a": {
     "id": "a2216fd9-45a4-4c9b-9e6a-56bb973c758a",
     "prev": "94737ead-c517-49ec-84a1-c344caaea1bb",
     "regions": {
      "dc2697c8-9f8a-4195-9f2e-821ad47ef23a": {
       "attrs": {
        "height": 0.8,
        "width": 0.8,
        "x": 0.1,
        "y": 0.1
       },
       "content": {
        "cell": "f869ee0c-f446-4367-90b3-fa459849180c",
        "part": "whole"
       },
       "id": "dc2697c8-9f8a-4195-9f2e-821ad47ef23a"
      }
     }
    },
    "aa332859-b839-48b8-bae7-e3dda91d487b": {
     "id": "aa332859-b839-48b8-bae7-e3dda91d487b",
     "prev": "168d2357-e658-4ab3-8bf1-097eee69ac9f",
     "regions": {
      "a51d6d1f-2597-4fa3-872e-9a955859c97e": {
       "attrs": {
        "height": 0.8,
        "width": 0.8,
        "x": 0.1,
        "y": 0.1
       },
       "content": {
        "cell": "3b3f0516-a0d9-4c82-b7cd-0129f2f75a59",
        "part": "whole"
       },
       "id": "a51d6d1f-2597-4fa3-872e-9a955859c97e"
      }
     }
    },
    "cecf3dc0-ff49-4184-b510-34c419a42450": {
     "id": "cecf3dc0-ff49-4184-b510-34c419a42450",
     "prev": "8836c65c-e9da-451f-a467-687df820cbd5",
     "regions": {
      "8e3df331-a332-4845-91d3-cfbeb53b5373": {
       "attrs": {
        "height": 0.8,
        "width": 0.8,
        "x": 0.1,
        "y": 0.1
       },
       "content": {
        "cell": "8ecb68a2-b932-43c9-a725-dab7103f3223",
        "part": "whole"
       },
       "id": "8e3df331-a332-4845-91d3-cfbeb53b5373"
      }
     }
    },
    "d24a3bde-2930-4323-8190-b1dff10e27e0": {
     "id": "d24a3bde-2930-4323-8190-b1dff10e27e0",
     "prev": "cecf3dc0-ff49-4184-b510-34c419a42450",
     "regions": {
      "314bcfbb-2969-4eb9-9e08-d9c5e0718001": {
       "attrs": {
        "height": 0.8,
        "width": 0.8,
        "x": 0.1,
        "y": 0.1
       },
       "content": {
        "cell": "5380458c-ddd8-4c71-bfc9-db36ec1191f8",
        "part": "whole"
       },
       "id": "314bcfbb-2969-4eb9-9e08-d9c5e0718001"
      }
     }
    },
    "d48f5db9-9610-40e8-a7b9-db39cd1609e5": {
     "id": "d48f5db9-9610-40e8-a7b9-db39cd1609e5",
     "prev": "dfe8ef47-8fce-408c-a1f5-c006a7976813",
     "regions": {
      "1de36599-bada-40d3-b440-1dacf939e882": {
       "attrs": {
        "height": 0.8,
        "width": 0.8,
        "x": 0.1,
        "y": 0.1
       },
       "content": {
        "cell": "ee2f6306-b028-4fa3-affa-4725e699d4c3",
        "part": "whole"
       },
       "id": "1de36599-bada-40d3-b440-1dacf939e882"
      }
     }
    },
    "d6872030-1f24-4730-b903-675db5086932": {
     "id": "d6872030-1f24-4730-b903-675db5086932",
     "prev": "d48f5db9-9610-40e8-a7b9-db39cd1609e5",
     "regions": {
      "b8340235-2651-4ae2-afcf-ee0c9c81730f": {
       "attrs": {
        "height": 0.8,
        "width": 0.8,
        "x": 0.1,
        "y": 0.1
       },
       "content": {
        "cell": "d7734ffa-ba34-4800-a1f3-442cebf174a8",
        "part": "whole"
       },
       "id": "b8340235-2651-4ae2-afcf-ee0c9c81730f"
      }
     }
    },
    "dfe8ef47-8fce-408c-a1f5-c006a7976813": {
     "id": "dfe8ef47-8fce-408c-a1f5-c006a7976813",
     "prev": "2f36918e-8d62-4993-8419-65899291c79d",
     "regions": {
      "0f611549-3d56-4ea2-88e3-1efc6e05b213": {
       "attrs": {
        "height": 0.8,
        "width": 0.8,
        "x": 0.1,
        "y": 0.1
       },
       "content": {
        "cell": "68f0caa6-eed1-442f-a9dc-0307d8935308",
        "part": "whole"
       },
       "id": "0f611549-3d56-4ea2-88e3-1efc6e05b213"
      }
     }
    },
    "e0499d89-5072-48d3-b328-92cf412a23c2": {
     "id": "e0499d89-5072-48d3-b328-92cf412a23c2",
     "prev": "1ae120d8-2429-4413-97f7-c4d81906c10f",
     "regions": {
      "9fb4c2a5-d4d3-49f5-ae36-22b25b88b85d": {
       "attrs": {
        "height": 0.8,
        "width": 0.8,
        "x": 0.1,
        "y": 0.1
       },
       "content": {
        "cell": "823651f1-c8f1-4ada-b13d-d53e82386179",
        "part": "whole"
       },
       "id": "9fb4c2a5-d4d3-49f5-ae36-22b25b88b85d"
      }
     }
    },
    "e5af1c01-e690-473c-bb3c-b0b1142718cd": {
     "id": "e5af1c01-e690-473c-bb3c-b0b1142718cd",
     "prev": "aa332859-b839-48b8-bae7-e3dda91d487b",
     "regions": {
      "ffdc62af-0d27-407f-bd17-7fefc95f2b7c": {
       "attrs": {
        "height": 0.8,
        "width": 0.8,
        "x": 0.1,
        "y": 0.1
       },
       "content": {
        "cell": "f95e7225-616f-4f6e-89ec-2f27504a376f",
        "part": "whole"
       },
       "id": "ffdc62af-0d27-407f-bd17-7fefc95f2b7c"
      }
     }
    },
    "f01fdffd-6e1d-47ca-a21d-75961cb3dd0a": {
     "id": "f01fdffd-6e1d-47ca-a21d-75961cb3dd0a",
     "prev": "03d3820a-3f6a-4d4b-be69-c0b5fb544e7b",
     "regions": {
      "0e4285ed-0893-47cb-a17d-3cd09a8be2f2": {
       "attrs": {
        "height": 0.2,
        "width": 0.4,
        "x": 0.1,
        "y": 0.7
       },
       "id": "0e4285ed-0893-47cb-a17d-3cd09a8be2f2"
      },
      "4fd2f323-f3de-47d7-b5d6-127073016f6b": {
       "attrs": {
        "height": 0.2,
        "width": 0.4,
        "x": 0.5,
        "y": 0.7
       },
       "id": "4fd2f323-f3de-47d7-b5d6-127073016f6b"
      },
      "7a928eb4-d385-4265-98de-8126e996eade": {
       "attrs": {
        "height": 0.6,
        "width": 0.8,
        "x": 0.1,
        "y": 0.1
       },
       "content": {
        "cell": "04198394-491c-47d2-a46d-9cb4dd90f9a2",
        "part": "source"
       },
       "id": "7a928eb4-d385-4265-98de-8126e996eade"
      }
     }
    },
    "f112823d-cd80-4ca3-b8f9-330c93ef979c": {
     "id": "f112823d-cd80-4ca3-b8f9-330c93ef979c",
     "prev": "47e8d8d3-706d-4431-80d0-24aee0fed5ac",
     "regions": {
      "ad7b410e-4933-444d-9ebc-e52e69fec13e": {
       "attrs": {
        "height": 0.8,
        "width": 0.8,
        "x": 0.1,
        "y": 0.1
       },
       "content": {
        "cell": "c3cd3b29-ddca-47c3-b48a-63faf04976e8",
        "part": "whole"
       },
       "id": "ad7b410e-4933-444d-9ebc-e52e69fec13e"
      }
     }
    },
    "f36c6038-bdb5-4bfd-90dc-1214dad1f704": {
     "id": "f36c6038-bdb5-4bfd-90dc-1214dad1f704",
     "prev": "44612a5c-8267-45fa-aea0-aa55f1d48230",
     "regions": {
      "9b51d1e7-f1c2-45fc-8420-907e2a8e0bae": {
       "attrs": {
        "height": 0.8,
        "width": 0.8,
        "x": 0.1,
        "y": 0.1
       },
       "content": {
        "cell": "37eb1500-3861-485c-9e2a-e9d126de0667",
        "part": "whole"
       },
       "id": "9b51d1e7-f1c2-45fc-8420-907e2a8e0bae"
      }
     }
    }
   },
   "themes": {}
  }
 },
 "nbformat": 4,
 "nbformat_minor": 1
}
