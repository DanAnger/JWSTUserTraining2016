{
 "cells": [
  {
   "cell_type": "markdown",
   "metadata": {},
   "source": [
    "# Working with tabular data in Python"
   ]
  },
  {
   "cell_type": "markdown",
   "metadata": {},
   "source": [
    "One of the foundational parts of any astronomical data analysis workflow is the input, output, and manipulation of tables of data.  This can range from collating the results of other analysis to downloading/exploring large catalogs of data to formatting LaTeX tables in manuscripts for publication.  The Python ecosystem provides a number of powerful tools for doing this.  The most popular of these is Pandas (http://pandas.pydata.org) which has become very widely used in science in general.  The ``astropy.io.*`` modules provide a set of utilities for handling a wide variety of ASCII (e.g. CSV, ECSV) and binary (e.g. FITS, HDF5) data types. AstroPy's [Table](http://docs.astropy.org/en/stable/table/index.html) provides support for manipulating heterogeneous data tables and integrates with AstroPy's [Units and Quantities](http://astropy.readthedocs.org/en/stable/units/index.html) functionality. \n",
    "\n",
    "A more in-depth look at AstroPy Tables and what it can do will be given on Thursday by Tom Aldcroft. This tutorial will focus more on Pandas and how it can interoperate with AstroPy functionality."
   ]
  },
  {
   "cell_type": "code",
   "execution_count": null,
   "metadata": {
    "collapsed": false
   },
   "outputs": [],
   "source": [
    "# generic imports\n",
    "import numpy as np\n",
    "import matplotlib\n",
    "from matplotlib import style\n",
    "style.use('ggplot')  \n",
    "matplotlib.use('nbagg')  # required for interactive plotting\n",
    "import matplotlib.pyplot as plt"
   ]
  },
  {
   "cell_type": "markdown",
   "metadata": {},
   "source": [
    "## Getting started with Pandas"
   ]
  },
  {
   "cell_type": "markdown",
   "metadata": {},
   "source": [
    "A great introduction to Pandas functionality is the [10 Minutes to Pandas](http://pandas.pydata.org/pandas-docs/stable/10min.html) tutorial. A complementary Jupyter notebook that covers Pandas basics in detail can be found [here](https://github.com/donnemartin/data-science-ipython-notebooks/blob/master/pandas/pandas.ipynb). \n",
    "\n",
    "There are also a number of astronomy-oriented tutorials that feature Pandas:\n",
    "\n",
    "* Jane Rigby is setting up a one-stop shop for such tutorials/examples at https://github.com/janerigby/astro-pandas-tutorials.\n",
    "* Michael Gully-Santiago has some examples of using Pandas to explore Gaia data at https://github.com/gully/adrasteia.\n",
    "* A trove of brown dwarf research-related Jupyter notebooks, many of which featuring Pandas, can be found at https://github.com/BrownDwarf/ApJdataFrames. \n",
    "\n",
    "This tutorial borrows heavily from these resources and will emphasize how to quickly get from input data to real scientific analysis using Pandas and AstroPy."
   ]
  },
  {
   "cell_type": "code",
   "execution_count": null,
   "metadata": {
    "collapsed": true
   },
   "outputs": [],
   "source": [
    "import pandas as pd  # this is the accepted convention for importing pandas, much as np is the convention for numpy"
   ]
  },
  {
   "cell_type": "markdown",
   "metadata": {},
   "source": [
    "Reading in basic ASCII data is straightforward using the ``read_table()`` and ``read_csv()`` methods:"
   ]
  },
  {
   "cell_type": "code",
   "execution_count": null,
   "metadata": {
    "collapsed": false
   },
   "outputs": [],
   "source": [
    "# read in some background data courtest of Jane Rigby\n",
    "bkgd = pd.read_table(\"data/zody_and_ism.txt\", comment='#', delim_whitespace=True)\n",
    "bkgd.head()"
   ]
  },
  {
   "cell_type": "code",
   "execution_count": null,
   "metadata": {
    "collapsed": false
   },
   "outputs": [],
   "source": [
    "bkgd['ISM'].head()"
   ]
  },
  {
   "cell_type": "markdown",
   "metadata": {},
   "source": [
    "For quick-n-dirty data exploration, the ability to plot directly from DataFrame objects is very handy. Especially when coupled with the ``nbagg`` interactive backend which allows you to pan and zoom:"
   ]
  },
  {
   "cell_type": "code",
   "execution_count": null,
   "metadata": {
    "collapsed": false
   },
   "outputs": [],
   "source": [
    "bkgd.plot(x='wave')\n",
    "plt.show()"
   ]
  },
  {
   "cell_type": "code",
   "execution_count": null,
   "metadata": {
    "collapsed": true
   },
   "outputs": [],
   "source": [
    "bkgd.plot?"
   ]
  },
  {
   "cell_type": "code",
   "execution_count": null,
   "metadata": {
    "collapsed": false
   },
   "outputs": [],
   "source": [
    "bkgd.plot(x='wave', y='ISM', logy=True)\n",
    "plt.show()"
   ]
  },
  {
   "cell_type": "markdown",
   "metadata": {},
   "source": [
    "We can read another background component from another file and incorporate it into our DataFrame using ``merge()``:"
   ]
  },
  {
   "cell_type": "code",
   "execution_count": null,
   "metadata": {
    "collapsed": false
   },
   "outputs": [],
   "source": [
    "thermal_bg = pd.read_csv(\"data/thermal_curve_jwst_jrigby_1.1.csv\", comment=\"#\", names=(\"wave\", \"thermal\"))\n",
    "thermal_bg.head()"
   ]
  },
  {
   "cell_type": "code",
   "execution_count": null,
   "metadata": {
    "collapsed": false
   },
   "outputs": [],
   "source": [
    "bg_merge = pd.merge(bkgd, thermal_bg, on='wave', how='outer')  # keep all data...\n",
    "bg_merge.plot(x='wave', logy=True)\n",
    "plt.show()"
   ]
  },
  {
   "cell_type": "code",
   "execution_count": null,
   "metadata": {
    "collapsed": false
   },
   "outputs": [],
   "source": [
    "bg_merge.head()"
   ]
  },
  {
   "cell_type": "code",
   "execution_count": null,
   "metadata": {
    "collapsed": false
   },
   "outputs": [],
   "source": [
    "bg_merge[275:280]"
   ]
  },
  {
   "cell_type": "code",
   "execution_count": null,
   "metadata": {
    "collapsed": false
   },
   "outputs": [],
   "source": [
    "bg_merge.info()"
   ]
  },
  {
   "cell_type": "markdown",
   "metadata": {},
   "source": [
    "### Exercise\n",
    "\n",
    "Make a new column that is the sum of the background components and plot the results. (HINT: It's really easy! Access each column by name like with a dict...)"
   ]
  },
  {
   "cell_type": "code",
   "execution_count": null,
   "metadata": {
    "collapsed": true
   },
   "outputs": [],
   "source": [
    "# %load solution1.py"
   ]
  },
  {
   "cell_type": "markdown",
   "metadata": {},
   "source": [
    "## More complicated data formats\n",
    "\n",
    "[``astropy.io.ascii``](http://docs.astropy.org/en/stable/io/ascii/index.html) provides support for a wide variety of ASCII formats, including many astronomy-specific ones. These include:\n",
    "\n",
    "* _Basic_: basic table with customizable delimiters and header configurations\n",
    "* _Cds_: CDS format table (also Vizier and ApJ machine readable tables)\n",
    "* _Daophot_: table from the IRAF DAOphot package\n",
    "* _Ecsv_: Enhanced CSV format\n",
    "* _FixedWidth_: table with fixed-width columns (see also Fixed-width Gallery)\n",
    "* _Ipac_: IPAC format table\n",
    "* _HTML_: HTML format table contained in a ``<table>`` tag\n",
    "* _Latex_: LaTeX table with datavalue in the tabular environment\n",
    "* _Rdb_: tab-separated values with an extra line after the column definition line\n",
    "* _SExtractor_: SExtractor format table\n",
    "\n",
    "The reader is also fairly smart and can auto-detect many of these formats.  Here's an example using a table from an ApJ paper (courtesty Jane Rigby):"
   ]
  },
  {
   "cell_type": "code",
   "execution_count": null,
   "metadata": {
    "collapsed": false
   },
   "outputs": [],
   "source": [
    "!head -100 data/apjsaa2f41t6_mrt.txt"
   ]
  },
  {
   "cell_type": "code",
   "execution_count": null,
   "metadata": {
    "collapsed": false
   },
   "outputs": [],
   "source": [
    "from astropy.io import ascii\n",
    "table = ascii.read(\"data/apjsaa2f41t6_mrt.txt\")\n",
    "table.show_in_notebook()"
   ]
  },
  {
   "cell_type": "markdown",
   "metadata": {},
   "source": [
    "``ascii.read()`` returns an [``astropy.table.Table``](http://docs.astropy.org/en/stable/io/ascii/index.html) instance! We'll come back to cover ``Table`` in a bit more detail. For now we'll take advantage of the ``to_pandas()`` method to convert the table into a pandas DataFrame:"
   ]
  },
  {
   "cell_type": "code",
   "execution_count": null,
   "metadata": {
    "collapsed": false
   },
   "outputs": [],
   "source": [
    "df = table.to_pandas()\n",
    "df.head()"
   ]
  },
  {
   "cell_type": "code",
   "execution_count": null,
   "metadata": {
    "collapsed": false
   },
   "outputs": [],
   "source": [
    "df.mean()"
   ]
  },
  {
   "cell_type": "code",
   "execution_count": null,
   "metadata": {
    "collapsed": false
   },
   "outputs": [],
   "source": [
    "df.describe()"
   ]
  },
  {
   "cell_type": "markdown",
   "metadata": {},
   "source": [
    "For data like this, we can reset the index to be the ``ID`` so that we can more easily access data for specific objects:"
   ]
  },
  {
   "cell_type": "code",
   "execution_count": null,
   "metadata": {
    "collapsed": false
   },
   "outputs": [],
   "source": [
    "df.set_index('ID', inplace=True)"
   ]
  },
  {
   "cell_type": "code",
   "execution_count": null,
   "metadata": {
    "collapsed": false
   },
   "outputs": [],
   "source": [
    "df.head()"
   ]
  },
  {
   "cell_type": "code",
   "execution_count": null,
   "metadata": {
    "collapsed": false
   },
   "outputs": [],
   "source": [
    "df.ix['MMT10']"
   ]
  },
  {
   "cell_type": "markdown",
   "metadata": {},
   "source": [
    "## Exercise\n",
    "\n",
    "Create a new column that contains the [O III] 4363/5007 flux ratio and plot the flux ratio vs. [O III] 5007 flux. \n",
    "\n",
    "(HINT: Look in the header of the data file shown above for descriptions of the columns and use the ``kind='scatter'`` argument in the ``plot()`` command)"
   ]
  },
  {
   "cell_type": "code",
   "execution_count": null,
   "metadata": {
    "collapsed": false
   },
   "outputs": [],
   "source": [
    "# %load solution2.py"
   ]
  },
  {
   "cell_type": "markdown",
   "metadata": {},
   "source": [
    "Now we can use this new column to make a mask to define a subset of the data with strong 4363 line emission:"
   ]
  },
  {
   "cell_type": "code",
   "execution_count": null,
   "metadata": {
    "collapsed": false
   },
   "outputs": [],
   "source": [
    "mask = df['O3-4363'].gt(df['O3-4363'].median())\n",
    "subset = df[mask].copy()\n",
    "subset.describe()"
   ]
  },
  {
   "cell_type": "markdown",
   "metadata": {},
   "source": [
    "Masks can be combined logically to make more sophisticated filtering possible:"
   ]
  },
  {
   "cell_type": "code",
   "execution_count": null,
   "metadata": {
    "collapsed": false
   },
   "outputs": [],
   "source": [
    "mask2 = df['f_O3-4363'] != 'd'  # exclude where 4363 line is contaminated by sky emission\n",
    "subset2 = df[mask & mask2].copy()  # combine with the previous mask to make a new subset with cleaner 4363\n",
    "subset2.describe()"
   ]
  },
  {
   "cell_type": "markdown",
   "metadata": {},
   "source": [
    "## Binary tables\n",
    "\n",
    "Pandas has native support for binary tables in HDF5 and even Excel format. However, it does not support the most popular binary format used in astronomy, FITS.  \n",
    "\n",
    "Again, AstroPy ``Table`` can be used as a bridge:"
   ]
  },
  {
   "cell_type": "code",
   "execution_count": null,
   "metadata": {
    "collapsed": true
   },
   "outputs": [],
   "source": [
    "from astropy.table import Table"
   ]
  },
  {
   "cell_type": "code",
   "execution_count": null,
   "metadata": {
    "collapsed": false
   },
   "outputs": [],
   "source": [
    "fits_df = Table.read(\"data/cdfs_obs_sources.fits\").to_pandas()\n",
    "fits_df.head()"
   ]
  },
  {
   "cell_type": "code",
   "execution_count": null,
   "metadata": {
    "collapsed": false
   },
   "outputs": [],
   "source": [
    "fits_df.describe()"
   ]
  },
  {
   "cell_type": "markdown",
   "metadata": {},
   "source": [
    "When loading FITS tables, it's recommended to use the high-level ``Table`` interface rather than the lower level ``astropy.io.fits`` interface unless you really know what you're doing.  The ``Table`` I/O interface automatically handles the endianness of the data and converts accordingly, as needed. "
   ]
  },
  {
   "cell_type": "markdown",
   "metadata": {},
   "source": [
    "# Tables vs DataFrames\n",
    "\n",
    "As we've seen so far, Pandas is a very powerful, flexible tool for analyzing and visualizing tabular data.  Combining it with AstroPy's support for astronomy-specific data formats makes it especially handy for working with astronomical data. \n",
    "\n",
    "What DataFrames are not, however, are general purpose tables.  Each column must be of a specific data type and only certain data types are supported.  Multidimensional columns are also not supported, though they are by the complementary package [xarray](http://xarray.pydata.org/en/stable/). AstroPy Tables are much more general purpose and while the ability to convert between Tables and Pandas via the ``to_pandas()`` and ``from_pandas()`` methods works well, there are some caveats:\n",
    "\n",
    " - Tables with multi-dimensional columns cannot be converted.\n",
    " - Masked values are converted to `numpy.nan`. Numerical columns, int or float, are thus converted to ``numpy.float`` while string columns with missing values are converted to object columns with ``numpy.nan`` values to indicate missing or masked data. Therefore, one cannot always round-trip between `Table` and `DataFrame`.\n",
    " \n",
    "AstroPy Tables also support the use of Units, Quantities, and SkyCoords.  The ``QTable`` object is provided which is exactly like ``Table``, but ``Quantity`` is used for columns that have defined units."
   ]
  },
  {
   "cell_type": "code",
   "execution_count": null,
   "metadata": {
    "collapsed": true
   },
   "outputs": [],
   "source": [
    "from astropy.table import QTable\n",
    "import astropy.units as u\n",
    "from astropy.time import Time"
   ]
  },
  {
   "cell_type": "code",
   "execution_count": null,
   "metadata": {
    "collapsed": false
   },
   "outputs": [],
   "source": [
    "t = Table()\n",
    "t['index'] = [1, 2]\n",
    "t['time'] = Time(['2001-01-02T12:34:56', '2001-02-03T00:01:02'])\n",
    "t['velocity'] = [3, 4] * u.m / u.s\n",
    "t"
   ]
  },
  {
   "cell_type": "code",
   "execution_count": null,
   "metadata": {
    "collapsed": false
   },
   "outputs": [],
   "source": [
    "type(t['velocity'])"
   ]
  },
  {
   "cell_type": "code",
   "execution_count": null,
   "metadata": {
    "collapsed": false
   },
   "outputs": [],
   "source": [
    "t['velocity'].unit"
   ]
  },
  {
   "cell_type": "code",
   "execution_count": null,
   "metadata": {
    "collapsed": false
   },
   "outputs": [],
   "source": [
    "qtab = QTable(t)\n",
    "type(qtab['velocity'])"
   ]
  },
  {
   "cell_type": "code",
   "execution_count": null,
   "metadata": {
    "collapsed": false
   },
   "outputs": [],
   "source": [
    "(t['velocity'] ** 2).unit  # wrong"
   ]
  },
  {
   "cell_type": "code",
   "execution_count": null,
   "metadata": {
    "collapsed": false
   },
   "outputs": [],
   "source": [
    "(qtab['velocity'] ** 2).unit  # right!"
   ]
  },
  {
   "cell_type": "code",
   "execution_count": null,
   "metadata": {
    "collapsed": false
   },
   "outputs": [],
   "source": [
    "qtab.to_pandas()  # oops, can't do this..."
   ]
  }
 ],
 "metadata": {
  "anaconda-cloud": {},
  "kernelspec": {
   "display_name": "Python 3",
   "language": "python",
   "name": "python3"
  },
  "language_info": {
   "codemirror_mode": {
    "name": "ipython",
    "version": 3
   },
   "file_extension": ".py",
   "mimetype": "text/x-python",
   "name": "python",
   "nbconvert_exporter": "python",
   "pygments_lexer": "ipython3",
   "version": "3.5.2"
  }
 },
 "nbformat": 4,
 "nbformat_minor": 1
}
